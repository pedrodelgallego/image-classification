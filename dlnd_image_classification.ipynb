{
 "cells": [
  {
   "cell_type": "markdown",
   "metadata": {
    "collapsed": true,
    "deletable": true,
    "editable": true
   },
   "source": [
    "# Image Classification\n",
    "In this project, you'll classify images from the [CIFAR-10 dataset](https://www.cs.toronto.edu/~kriz/cifar.html).  The dataset consists of airplanes, dogs, cats, and other objects. You'll preprocess the images, then train a convolutional neural network on all the samples. The images need to be normalized and the labels need to be one-hot encoded.  You'll get to apply what you learned and build a convolutional, max pooling, dropout, and fully connected layers.  At the end, you'll get to see your neural network's predictions on the sample images.\n",
    "## Get the Data\n",
    "Run the following cell to download the [CIFAR-10 dataset for python](https://www.cs.toronto.edu/~kriz/cifar-10-python.tar.gz)."
   ]
  },
  {
   "cell_type": "code",
   "execution_count": 1,
   "metadata": {
    "collapsed": false,
    "deletable": true,
    "editable": true
   },
   "outputs": [
    {
     "name": "stdout",
     "output_type": "stream",
     "text": [
      "All files found!\n"
     ]
    }
   ],
   "source": [
    "\"\"\"\n",
    "DON'T MODIFY ANYTHING IN THIS CELL THAT IS BELOW THIS LINE\n",
    "\"\"\"\n",
    "from urllib.request import urlretrieve\n",
    "from os.path import isfile, isdir\n",
    "from tqdm import tqdm\n",
    "import problem_unittests as tests\n",
    "import tarfile\n",
    "\n",
    "cifar10_dataset_folder_path = 'cifar-10-batches-py'\n",
    "\n",
    "class DLProgress(tqdm):\n",
    "    last_block = 0\n",
    "\n",
    "    def hook(self, block_num=1, block_size=1, total_size=None):\n",
    "        self.total = total_size\n",
    "        self.update((block_num - self.last_block) * block_size)\n",
    "        self.last_block = block_num\n",
    "\n",
    "if not isfile('cifar-10-python.tar.gz'):\n",
    "    with DLProgress(unit='B', unit_scale=True, miniters=1, desc='CIFAR-10 Dataset') as pbar:\n",
    "        urlretrieve(\n",
    "            'https://www.cs.toronto.edu/~kriz/cifar-10-python.tar.gz',\n",
    "            'cifar-10-python.tar.gz',\n",
    "            pbar.hook)\n",
    "\n",
    "if not isdir(cifar10_dataset_folder_path):\n",
    "    with tarfile.open('cifar-10-python.tar.gz') as tar:\n",
    "        tar.extractall()\n",
    "        tar.close()\n",
    "\n",
    "\n",
    "tests.test_folder_path(cifar10_dataset_folder_path)"
   ]
  },
  {
   "cell_type": "markdown",
   "metadata": {
    "deletable": true,
    "editable": true
   },
   "source": [
    "## Explore the Data\n",
    "The dataset is broken into batches to prevent your machine from running out of memory.  The CIFAR-10 dataset consists of 5 batches, named `data_batch_1`, `data_batch_2`, etc.. Each batch contains the labels and images that are one of the following:\n",
    "* airplane\n",
    "* automobile\n",
    "* bird\n",
    "* cat\n",
    "* deer\n",
    "* dog\n",
    "* frog\n",
    "* horse\n",
    "* ship\n",
    "* truck\n",
    "\n",
    "Understanding a dataset is part of making predictions on the data.  Play around with the code cell below by changing the `batch_id` and `sample_id`. The `batch_id` is the id for a batch (1-5). The `sample_id` is the id for a image and label pair in the batch.\n",
    "\n",
    "Ask yourself \"What are all possible labels?\", \"What is the range of values for the image data?\", \"Are the labels in order or random?\".  Answers to questions like these will help you preprocess the data and end up with better predictions."
   ]
  },
  {
   "cell_type": "code",
   "execution_count": 2,
   "metadata": {
    "collapsed": false,
    "deletable": true,
    "editable": true
   },
   "outputs": [
    {
     "name": "stdout",
     "output_type": "stream",
     "text": [
      "\n",
      "Stats of batch 1:\n",
      "Samples: 10000\n",
      "Label Counts: {0: 1005, 1: 974, 2: 1032, 3: 1016, 4: 999, 5: 937, 6: 1030, 7: 1001, 8: 1025, 9: 981}\n",
      "First 20 Labels: [6, 9, 9, 4, 1, 1, 2, 7, 8, 3, 4, 7, 7, 2, 9, 9, 9, 3, 2, 6]\n",
      "\n",
      "Example of Image 4:\n",
      "Image - Min Value: 0 Max Value: 254\n",
      "Image - Shape: (32, 32, 3)\n",
      "Label - Label Id: 1 Name: automobile\n"
     ]
    },
    {
     "data": {
      "image/png": "[encoded data removed]",
      "text/plain": [
       "<matplotlib.figure.Figure at 0x7f8dfe594240>"
      ]
     },
     "metadata": {
      "image/png": {
       "height": 250,
       "width": 253
      }
     },
     "output_type": "display_data"
    }
   ],
   "source": [
    "%matplotlib inline\n",
    "%config InlineBackend.figure_format = 'retina'\n",
    "\n",
    "import helper\n",
    "import numpy as np\n",
    "\n",
    "# Explore the dataset\n",
    "batch_id = 1\n",
    "sample_id = 4\n",
    "helper.display_stats(cifar10_dataset_folder_path, batch_id, sample_id)"
   ]
  },
  {
   "cell_type": "markdown",
   "metadata": {
    "deletable": true,
    "editable": true
   },
   "source": [
    "## Implement Preprocess Functions\n",
    "### Normalize\n",
    "In the cell below, implement the `normalize` function to take in image data, `x`, and return it as a normalized Numpy array. The values should be in the range of 0 to 1, inclusive.  The return object should be the same shape as `x`."
   ]
  },
  {
   "cell_type": "code",
   "execution_count": 3,
   "metadata": {
    "collapsed": false,
    "deletable": true,
    "editable": true
   },
   "outputs": [
    {
     "name": "stdout",
     "output_type": "stream",
     "text": [
      "Tests Passed\n"
     ]
    }
   ],
   "source": [
    "def normalize(x):\n",
    "    \"\"\"\n",
    "    Normalize a list of sample image data in the range of 0 to 1\n",
    "    : x: List of image data.  The image shape is (32, 32, 3)\n",
    "    : return: Numpy array of normalize data\n",
    "    \"\"\"\n",
    "    x = x.astype('float32')\n",
    "    if (x.max() > 1.0 and x.min() >= 0):\n",
    "        x /= 255.0\n",
    "    return x\n",
    "\n",
    "\"\"\"\n",
    "DON'T MODIFY ANYTHING IN THIS CELL THAT IS BELOW THIS LINE\n",
    "\"\"\"\n",
    "tests.test_normalize(normalize)"
   ]
  },
  {
   "cell_type": "markdown",
   "metadata": {
    "deletable": true,
    "editable": true
   },
   "source": [
    "### One-hot encode\n",
    "Just like the previous code cell, you'll be implementing a function for preprocessing.  This time, you'll implement the `one_hot_encode` function. The input, `x`, are a list of labels.  Implement the function to return the list of labels as One-Hot encoded Numpy array.  The possible values for labels are 0 to 9. The one-hot encoding function should return the same encoding for each value between each call to `one_hot_encode`.  Make sure to save the map of encodings outside the function.\n",
    "\n",
    "Hint: Don't reinvent the wheel."
   ]
  },
  {
   "cell_type": "code",
   "execution_count": 4,
   "metadata": {
    "collapsed": false,
    "deletable": true,
    "editable": true
   },
   "outputs": [
    {
     "name": "stdout",
     "output_type": "stream",
     "text": [
      "Tests Passed\n"
     ]
    }
   ],
   "source": [
    "def one_hot_encode(x):\n",
    "    \"\"\"\n",
    "    One hot encode a list of sample labels. Return a one-hot encoded vector for each label.\n",
    "    : x: List of sample Labels\n",
    "    : return: Numpy array of one-hot encoded labels\n",
    "    \"\"\"\n",
    "    a = np.zeros((len(x), 10))\n",
    "    a[np.arange(len(x)), x] = 1\n",
    "    \n",
    "    return a\n",
    "\n",
    "\n",
    "\"\"\"\n",
    "DON'T MODIFY ANYTHING IN THIS CELL THAT IS BELOW THIS LINE\n",
    "\"\"\"\n",
    "tests.test_one_hot_encode(one_hot_encode)"
   ]
  },
  {
   "cell_type": "markdown",
   "metadata": {
    "deletable": true,
    "editable": true
   },
   "source": [
    "### Randomize Data\n",
    "As you saw from exploring the data above, the order of the samples are randomized.  It doesn't hurt to randomize it again, but you don't need to for this dataset."
   ]
  },
  {
   "cell_type": "markdown",
   "metadata": {
    "deletable": true,
    "editable": true
   },
   "source": [
    "## Preprocess all the data and save it\n",
    "Running the code cell below will preprocess all the CIFAR-10 data and save it to file. The code below also uses 10% of the training data for validation."
   ]
  },
  {
   "cell_type": "code",
   "execution_count": 5,
   "metadata": {
    "collapsed": false,
    "deletable": true,
    "editable": true
   },
   "outputs": [],
   "source": [
    "\"\"\"\n",
    "DON'T MODIFY ANYTHING IN THIS CELL\n",
    "\"\"\"\n",
    "# Preprocess Training, Validation, and Testing Data\n",
    "helper.preprocess_and_save_data(cifar10_dataset_folder_path, normalize, one_hot_encode)"
   ]
  },
  {
   "cell_type": "markdown",
   "metadata": {
    "deletable": true,
    "editable": true
   },
   "source": [
    "# Check Point\n",
    "This is your first checkpoint.  If you ever decide to come back to this notebook or have to restart the notebook, you can start from here.  The preprocessed data has been saved to disk."
   ]
  },
  {
   "cell_type": "code",
   "execution_count": 6,
   "metadata": {
    "collapsed": true,
    "deletable": true,
    "editable": true
   },
   "outputs": [],
   "source": [
    "\"\"\"\n",
    "DON'T MODIFY ANYTHING IN THIS CELL\n",
    "\"\"\"\n",
    "import pickle\n",
    "import problem_unittests as tests\n",
    "import helper\n",
    "\n",
    "# Load the Preprocessed Validation data\n",
    "valid_features, valid_labels = pickle.load(open('preprocess_validation.p', mode='rb'))"
   ]
  },
  {
   "cell_type": "markdown",
   "metadata": {
    "deletable": true,
    "editable": true
   },
   "source": [
    "## Build the network\n",
    "For the neural network, you'll build each layer into a function.  Most of the code you've seen has been outside of functions. To test your code more thoroughly, we require that you put each layer in a function.  This allows us to give you better feedback and test for simple mistakes using our unittests before you submit your project.\n",
    "\n",
    "If you're finding it hard to dedicate enough time for this course a week, we've provided a small shortcut to this part of the project. In the next couple of problems, you'll have the option to use [TensorFlow Layers](https://www.tensorflow.org/api_docs/python/tf/layers) or [TensorFlow Layers (contrib)](https://www.tensorflow.org/api_guides/python/contrib.layers) to build each layer, except \"Convolutional & Max Pooling\" layer.  TF Layers is similar to Keras's and TFLearn's abstraction to layers, so it's easy to pickup.\n",
    "\n",
    "If you would like to get the most of this course, try to solve all the problems without TF Layers.  Let's begin!\n",
    "### Input\n",
    "The neural network needs to read the image data, one-hot encoded labels, and dropout keep probability. Implement the following functions\n",
    "* Implement `neural_net_image_input`\n",
    " * Return a [TF Placeholder](https://www.tensorflow.org/api_docs/python/tf/placeholder)\n",
    " * Set the shape using `image_shape` with batch size set to `None`.\n",
    " * Name the TensorFlow placeholder \"x\" using the TensorFlow `name` parameter in the [TF Placeholder](https://www.tensorflow.org/api_docs/python/tf/placeholder).\n",
    "* Implement `neural_net_label_input`\n",
    " * Return a [TF Placeholder](https://www.tensorflow.org/api_docs/python/tf/placeholder)\n",
    " * Set the shape using `n_classes` with batch size set to `None`.\n",
    " * Name the TensorFlow placeholder \"y\" using the TensorFlow `name` parameter in the [TF Placeholder](https://www.tensorflow.org/api_docs/python/tf/placeholder).\n",
    "* Implement `neural_net_keep_prob_input`\n",
    " * Return a [TF Placeholder](https://www.tensorflow.org/api_docs/python/tf/placeholder) for dropout keep probability.\n",
    " * Name the TensorFlow placeholder \"keep_prob\" using the TensorFlow `name` parameter in the [TF Placeholder](https://www.tensorflow.org/api_docs/python/tf/placeholder).\n",
    "\n",
    "These names will be used at the end of the project to load your saved model.\n",
    "\n",
    "Note: `None` for shapes in TensorFlow allow for a dynamic size."
   ]
  },
  {
   "cell_type": "code",
   "execution_count": 150,
   "metadata": {
    "collapsed": false,
    "deletable": true,
    "editable": true
   },
   "outputs": [
    {
     "name": "stdout",
     "output_type": "stream",
     "text": [
      "Image Input Tests Passed.\n",
      "Label Input Tests Passed.\n",
      "Keep Prob Tests Passed.\n"
     ]
    }
   ],
   "source": [
    "import tensorflow as tf\n",
    "\n",
    "def neural_net_image_input(image_shape):\n",
    "    \"\"\"\n",
    "    Return a Tensor for a bach of image input\n",
    "    : image_shape: Shape of the images\n",
    "    : return: Tensor for image input.\n",
    "    \"\"\"\n",
    "    return tf.placeholder(tf.float32, shape=(None, image_shape[0], image_shape[1], image_shape[2]), name='x')\n",
    "\n",
    "\n",
    "\n",
    "def neural_net_label_input(n_classes):\n",
    "    \"\"\"\n",
    "    Return a Tensor for a batch of label input\n",
    "    : n_classes: Number of classes\n",
    "    : return: Tensor for label input.\n",
    "    \"\"\"\n",
    "    return tf.placeholder(tf.float32, shape=(None, n_classes), name='y')\n",
    "\n",
    "\n",
    "def neural_net_keep_prob_input():\n",
    "    \"\"\"\n",
    "    Return a Tensor for keep probability\n",
    "    : return: Tensor for keep probability.\n",
    "    \"\"\"\n",
    "    return tf.placeholder(tf.float32, name='keep_prob')\n",
    "\n",
    "\n",
    "\"\"\"\n",
    "DON'T MODIFY ANYTHING IN THIS CELL THAT IS BELOW THIS LINE\n",
    "\"\"\"\n",
    "tf.reset_default_graph()\n",
    "tests.test_nn_image_inputs(neural_net_image_input)\n",
    "tests.test_nn_label_inputs(neural_net_label_input)\n",
    "tests.test_nn_keep_prob_inputs(neural_net_keep_prob_input)"
   ]
  },
  {
   "cell_type": "markdown",
   "metadata": {
    "deletable": true,
    "editable": true
   },
   "source": [
    "### Convolution and Max Pooling Layer\n",
    "Convolution layers have a lot of success with images. For this code cell, you should implement the function `conv2d_maxpool` to apply convolution then max pooling:\n",
    "* Create the weight and bias using `conv_ksize`, `conv_num_outputs` and the shape of `x_tensor`.\n",
    "* Apply a convolution to `x_tensor` using weight and `conv_strides`.\n",
    " * We recommend you use same padding, but you're welcome to use any padding.\n",
    "* Add bias\n",
    "* Add a nonlinear activation to the convolution.\n",
    "* Apply Max Pooling using `pool_ksize` and `pool_strides`.\n",
    " * We recommend you use same padding, but you're welcome to use any padding.\n",
    "\n",
    "Note: You **can't** use [TensorFlow Layers](https://www.tensorflow.org/api_docs/python/tf/layers) or [TensorFlow Layers (contrib)](https://www.tensorflow.org/api_guides/python/contrib.layers) for this layer.  You're free to use any TensorFlow package for all the other layers."
   ]
  },
  {
   "cell_type": "code",
   "execution_count": 14,
   "metadata": {
    "collapsed": false,
    "deletable": true,
    "editable": true
   },
   "outputs": [
    {
     "name": "stdout",
     "output_type": "stream",
     "text": [
      "Tests Passed\n"
     ]
    }
   ],
   "source": [
    "def conv2d_maxpool(x_tensor, conv_num_outputs, conv_ksize, conv_strides, pool_ksize, pool_strides):\n",
    "    \"\"\"\n",
    "    Apply convolution then max pooling to x_tensor\n",
    "    :param x_tensor: TensorFlow Tensor\n",
    "    :param conv_num_outputs: Number of outputs for the convolutional layer\n",
    "    :param conv_strides: Stride 2-D Tuple for convolution\n",
    "    :param pool_ksize: kernal size 2-D Tuple for pool\n",
    "    :param pool_strides: Stride 2-D Tuple for pool\n",
    "    : return: A tensor that represents convolution and max pooling of x_tensor\n",
    "    \"\"\"\n",
    "    shape = x_tensor.get_shape().as_list();\n",
    "    W = tf.Variable(tf.truncated_normal((conv_ksize[0], conv_ksize[1], shape[3], conv_num_outputs), stddev=0.1), name=\"weights\")\n",
    "    b = tf.Variable(tf.zeros([conv_num_outputs]), name=\"bias\")\n",
    "    x = tf.nn.conv2d(x_tensor, W, strides=[1, conv_strides[0], conv_strides[1], 1], padding='SAME')\n",
    "    conv_layer = tf.nn.relu(tf.nn.bias_add(x, b))\n",
    "     \n",
    "    return tf.nn.max_pool(conv_layer, \n",
    "                          ksize=[1, pool_ksize[0], pool_ksize[1], 1], \n",
    "                          strides=[1, pool_strides[0], pool_strides[1], 1], \n",
    "                          padding='VALID')\n",
    "    \n",
    "tests.test_con_pool(conv2d_maxpool)"
   ]
  },
  {
   "cell_type": "markdown",
   "metadata": {
    "deletable": true,
    "editable": true
   },
   "source": [
    "### Convolution and Max Pooling Layer\n",
    "\n",
    "Adding a pure conv layer. E.g: AlexNet use three conv layer stack on top of each other."
   ]
  },
  {
   "cell_type": "code",
   "execution_count": 15,
   "metadata": {
    "collapsed": false,
    "deletable": true,
    "editable": true
   },
   "outputs": [
    {
     "name": "stdout",
     "output_type": "stream",
     "text": [
      "Tests Passed\n"
     ]
    }
   ],
   "source": [
    "def conv2d(x_tensor, conv_num_outputs, conv_ksize, conv_strides):\n",
    "    \"\"\"\n",
    "    Apply convolution  to x_tensor\n",
    "    :param x_tensor: TensorFlow Tensor\n",
    "    :param conv_num_outputs: Number of outputs for the convolutional layer\n",
    "    :param conv_strides: Stride 2-D Tuple for convolution\n",
    "    :param pool_ksize: kernal size 2-D Tuple for pool\n",
    "    :param pool_strides: Stride 2-D Tuple for pool\n",
    "    : return: A tensor that represents convolution and max pooling of x_tensor\n",
    "    \"\"\"\n",
    "    shape = x_tensor.get_shape().as_list();\n",
    "    W = tf.Variable(tf.truncated_normal((conv_ksize[0], conv_ksize[1], shape[3], conv_num_outputs), stddev=0.1), name=\"weights\")\n",
    "    b = tf.Variable(tf.zeros([conv_num_outputs]), name=\"bias\")\n",
    "    x = tf.nn.conv2d(x_tensor, W, strides=[1, conv_strides[0], conv_strides[1], 1], padding='SAME')\n",
    "    return tf.nn.relu(tf.nn.bias_add(x, b))\n",
    "    \n",
    "tests.test_con_pool(conv2d_maxpool)"
   ]
  },
  {
   "cell_type": "markdown",
   "metadata": {
    "deletable": true,
    "editable": true
   },
   "source": [
    "### Flatten Layer\n",
    "Implement the `flatten` function to change the dimension of `x_tensor` from a 4-D tensor to a 2-D tensor.  The output should be the shape (*Batch Size*, *Flattened Image Size*). You can use [TensorFlow Layers](https://www.tensorflow.org/api_docs/python/tf/layers) or [TensorFlow Layers (contrib)](https://www.tensorflow.org/api_guides/python/contrib.layers) for this layer."
   ]
  },
  {
   "cell_type": "code",
   "execution_count": 16,
   "metadata": {
    "collapsed": false,
    "deletable": true,
    "editable": true
   },
   "outputs": [
    {
     "name": "stdout",
     "output_type": "stream",
     "text": [
      "Tests Passed\n"
     ]
    }
   ],
   "source": [
    "def flatten(x_tensor):\n",
    "    \"\"\"\n",
    "    Flatten x_tensor to (Batch Size, Flattened Image Size)\n",
    "    : x_tensor: A tensor of size (Batch Size, ...), where ... are the image dimensions.\n",
    "    : return: A tensor of size (Batch Size, Flattened Image Size).\n",
    "    \"\"\"\n",
    "    shape = x_tensor.get_shape().as_list();\n",
    "    dim = int(shape[1] * shape[2] * shape[3])\n",
    "    return tf.reshape(x_tensor, [-1, dim])\n",
    "\n",
    "\"\"\"\n",
    "DON'T MODIFY ANYTHING IN THIS CELL THAT IS BELOW THIS LINE\n",
    "\"\"\"\n",
    "tests.test_flatten(flatten)"
   ]
  },
  {
   "cell_type": "markdown",
   "metadata": {
    "deletable": true,
    "editable": true
   },
   "source": [
    "### Fully-Connected Layer\n",
    "Implement the `fully_conn` function to apply a fully connected layer to `x_tensor` with the shape (*Batch Size*, *num_outputs*). You can use [TensorFlow Layers](https://www.tensorflow.org/api_docs/python/tf/layers) or [TensorFlow Layers (contrib)](https://www.tensorflow.org/api_guides/python/contrib.layers) for this layer."
   ]
  },
  {
   "cell_type": "code",
   "execution_count": 17,
   "metadata": {
    "collapsed": false,
    "deletable": true,
    "editable": true
   },
   "outputs": [
    {
     "name": "stdout",
     "output_type": "stream",
     "text": [
      "Tests Passed\n"
     ]
    }
   ],
   "source": [
    "def fully_conn(x_tensor, num_outputs):\n",
    "    \"\"\"\n",
    "    Apply a fully connected layer to x_tensor using weight and bias\n",
    "    : x_tensor: A 2-D tensor where the first dimension is batch size.\n",
    "    : num_outputs: The number of output that the new tensor should be.\n",
    "    : return: A 2-D tensor where the second dimension is num_outputs.\n",
    "    \"\"\"\n",
    "    # TODO: Implement Function\n",
    "    shape    = x_tensor.get_shape().as_list();\n",
    "    datasize = shape[1]\n",
    "    W = tf.Variable(tf.truncated_normal([shape[1], num_outputs], stddev=0.1), name=\"fully_connected_weights\")\n",
    "    b = tf.Variable(tf.zeros(num_outputs), name=\"fully_connected_bias\")\n",
    "    return tf.nn.relu(tf.nn.bias_add(tf.matmul(x_tensor, W), b))\n",
    "\n",
    "\n",
    "\"\"\"\n",
    "DON'T MODIFY ANYTHING IN THIS CELL THAT IS BELOW THIS LINE\n",
    "\"\"\"\n",
    "tests.test_fully_conn(fully_conn)"
   ]
  },
  {
   "cell_type": "markdown",
   "metadata": {
    "deletable": true,
    "editable": true
   },
   "source": [
    "### Output Layer\n",
    "Implement the `output` function to apply a fully connected layer to `x_tensor` with the shape (*Batch Size*, *num_outputs*). You can use [TensorFlow Layers](https://www.tensorflow.org/api_docs/python/tf/layers) or [TensorFlow Layers (contrib)](https://www.tensorflow.org/api_guides/python/contrib.layers) for this layer.\n",
    "\n",
    "Note: Activation, softmax, or cross entropy shouldn't be applied to this."
   ]
  },
  {
   "cell_type": "code",
   "execution_count": 151,
   "metadata": {
    "collapsed": false,
    "deletable": true,
    "editable": true
   },
   "outputs": [
    {
     "name": "stdout",
     "output_type": "stream",
     "text": [
      "Tests Passed\n"
     ]
    }
   ],
   "source": [
    "def output(x_tensor, num_outputs):\n",
    "    \"\"\"\n",
    "    Apply a output layer to x_tensor using weight and bias\n",
    "    : x_tensor: A 2-D tensor where the first dimension is batch size.\n",
    "    : num_outputs: The number of output that the new tensor should be.\n",
    "    : return: A 2-D tensor where the second dimension is num_outputs.\n",
    "    \"\"\"\n",
    "    shape    = x_tensor.get_shape().as_list();\n",
    "    datasize = shape[1]\n",
    "    W = tf.Variable(tf.truncated_normal([shape[1], num_outputs], stddev=0.1), name=\"fully_connected_weights\")\n",
    "    b = tf.Variable(tf.zeros(num_outputs), name=\"fully_connected_bias\")\n",
    "    return tf.nn.bias_add(tf.matmul(x_tensor, W), b)\n",
    "\n",
    "\n",
    "\"\"\"\n",
    "DON'T MODIFY ANYTHING IN THIS CELL THAT IS BELOW THIS LINE\n",
    "\"\"\"\n",
    "tests.test_output(output)"
   ]
  },
  {
   "cell_type": "markdown",
   "metadata": {
    "deletable": true,
    "editable": true
   },
   "source": [
    "### Create Convolutional Model\n",
    "Implement the function `conv_net` to create a convolutional neural network model. The function takes in a batch of images, `x`, and outputs logits.  Use the layers you created above to create this model:\n",
    "\n",
    "* Apply 1, 2, or 3 Convolution and Max Pool layers\n",
    "* Apply a Flatten Layer\n",
    "* Apply 1, 2, or 3 Fully Connected Layers\n",
    "* Apply an Output Layer\n",
    "* Return the output\n",
    "* Apply [TensorFlow's Dropout](https://www.tensorflow.org/api_docs/python/tf/nn/dropout) to one or more layers in the model using `keep_prob`. "
   ]
  },
  {
   "cell_type": "code",
   "execution_count": 29,
   "metadata": {
    "collapsed": false,
    "deletable": true,
    "editable": true
   },
   "outputs": [
    {
     "name": "stdout",
     "output_type": "stream",
     "text": [
      "Neural Network Built!\n"
     ]
    }
   ],
   "source": [
    "def conv_net(x, keep_prob):\n",
    "    \"\"\"\n",
    "    Create a convolutional neural network model\n",
    "    : x: Placeholder tensor that holds image data.\n",
    "    : keep_prob: Placeholder tensor that hold dropout keep probability.\n",
    "    : return: Tensor that represents logits\n",
    "    \"\"\"\n",
    "    # Apply 1, 2, or 3 Convolution and Max Pool layers\n",
    "    model = x\n",
    "    conv_num_outputs = 32\n",
    "    conv_ksize = (5,5)\n",
    "    conv_strides = (2,2)\n",
    "    pool_ksize = (2,2)\n",
    "    pool_strides = (1,1)\n",
    "    model = conv2d_maxpool(model, conv_num_outputs, conv_ksize, conv_strides, pool_ksize, pool_strides)\n",
    "    model = tf.nn.local_response_normalization(model)\n",
    "    \n",
    "    conv_num_outputs = 64\n",
    "    conv_ksize = (3,3)\n",
    "    conv_strides = (1,1)\n",
    "    pool_ksize = (2,2)\n",
    "    pool_strides = (1,1)\n",
    "    model = conv2d_maxpool(model, conv_num_outputs, conv_ksize, conv_strides, pool_ksize, pool_strides)\n",
    "    \n",
    "    # TODO: Apply a Flatten Layer\n",
    "    model = flatten(model)\n",
    "    \n",
    "    model = fully_conn(model, 128)\n",
    "    model = tf.nn.dropout(model, keep_prob)\n",
    "    \n",
    "    model = fully_conn(model, 32)\n",
    "    model = tf.nn.dropout(model, keep_prob)\n",
    "\n",
    "    num_outputs = 10\n",
    "    out_data = output(model, num_outputs)\n",
    "\n",
    "    return out_data\n",
    "\n",
    "\n",
    "\"\"\"\n",
    "DON'T MODIFY ANYTHING IN THIS CELL THAT IS BELOW THIS LINE\n",
    "\"\"\"\n",
    "\n",
    "##############################\n",
    "## Build the Neural Network ##\n",
    "##############################\n",
    "\n",
    "# Remove previous weights, bias, inputs, etc..\n",
    "tf.reset_default_graph()\n",
    "\n",
    "# Inputs\n",
    "x = neural_net_image_input((32, 32, 3))\n",
    "y = neural_net_label_input(10)\n",
    "keep_prob = neural_net_keep_prob_input()\n",
    "\n",
    "# Model\n",
    "logits = conv_net(x, keep_prob)\n",
    "\n",
    "# Name logits Tensor, so that is can be loaded from disk after training\n",
    "logits = tf.identity(logits, name='logits')\n",
    "\n",
    "# Loss and Optimizer\n",
    "cost = tf.reduce_mean(tf.nn.softmax_cross_entropy_with_logits(logits=logits, labels=y))\n",
    "optimizer = tf.train.AdamOptimizer().minimize(cost)\n",
    "\n",
    "# Accuracy\n",
    "correct_pred = tf.equal(tf.argmax(logits, 1), tf.argmax(y, 1))\n",
    "accuracy = tf.reduce_mean(tf.cast(correct_pred, tf.float32), name='accuracy')\n",
    "\n",
    "tests.test_conv_net(conv_net)"
   ]
  },
  {
   "cell_type": "markdown",
   "metadata": {
    "deletable": true,
    "editable": true
   },
   "source": [
    "## Train the Neural Network\n",
    "### Single Optimization\n",
    "Implement the function `train_neural_network` to do a single optimization.  The optimization should use `optimizer` to optimize in `session` with a `feed_dict` of the following:\n",
    "* `x` for image input\n",
    "* `y` for labels\n",
    "* `keep_prob` for keep probability for dropout\n",
    "\n",
    "This function will be called for each batch, so `tf.global_variables_initializer()` has already been called.\n",
    "\n",
    "Note: Nothing needs to be returned. This function is only optimizing the neural network."
   ]
  },
  {
   "cell_type": "code",
   "execution_count": 20,
   "metadata": {
    "collapsed": false,
    "deletable": true,
    "editable": true
   },
   "outputs": [
    {
     "name": "stdout",
     "output_type": "stream",
     "text": [
      "Tests Passed\n"
     ]
    }
   ],
   "source": [
    "def train_neural_network(session, optimizer, keep_probability, feature_batch, label_batch):\n",
    "    \"\"\"\n",
    "    Optimize the session on a batch of images and labels\n",
    "    : session: Current TensorFlow session\n",
    "    : optimizer: TensorFlow optimizer function\n",
    "    : keep_probability: keep probability\n",
    "    : feature_batch: Batch of Numpy image data\n",
    "    : label_batch: Batch of Numpy label data\n",
    "    \"\"\"\n",
    "    return session.run(optimizer, feed_dict={\n",
    "        x: feature_batch,\n",
    "        y: label_batch,\n",
    "        keep_prob: keep_probability\n",
    "    })\n",
    "\n",
    "\n",
    "\"\"\"\n",
    "DON'T MODIFY ANYTHING IN THIS CELL THAT IS BELOW THIS LINE\n",
    "\"\"\"\n",
    "tests.test_train_nn(train_neural_network)"
   ]
  },
  {
   "cell_type": "markdown",
   "metadata": {
    "deletable": true,
    "editable": true
   },
   "source": [
    "### Show Stats\n",
    "Implement the function `print_stats` to print loss and validation accuracy.  Use the global variables `valid_features` and `valid_labels` to calculate validation accuracy.  Use a keep probability of `1.0` to calculate the loss and validation accuracy."
   ]
  },
  {
   "cell_type": "code",
   "execution_count": 21,
   "metadata": {
    "collapsed": false,
    "deletable": true,
    "editable": true
   },
   "outputs": [],
   "source": [
    "def print_stats(session, feature_batch, label_batch, cost, accuracy):\n",
    "    \"\"\"\n",
    "    Print information about loss and validation accuracy\n",
    "    : session: Current TensorFlow session\n",
    "    : feature_batch: Batch of Numpy image data\n",
    "    : label_batch: Batch of Numpy label data\n",
    "    : cost: TensorFlow cost function\n",
    "    : accuracy: TensorFlow accuracy function\n",
    "    \"\"\"\n",
    "    loss = session.run(cost,\n",
    "                       feed_dict={\n",
    "                           x: feature_batch,\n",
    "                           y: label_batch,\n",
    "                           keep_prob: 1.0})\n",
    "\n",
    "    acc = session.run(accuracy,\n",
    "                            feed_dict={\n",
    "                                x: valid_features,\n",
    "                                y: valid_labels,\n",
    "                                keep_prob: 1.0})\n",
    "\n",
    "    print('Loss: {:>10.4f} Accuracy: {:.6f}'.format(\n",
    "                loss,\n",
    "                acc))"
   ]
  },
  {
   "cell_type": "markdown",
   "metadata": {
    "deletable": true,
    "editable": true
   },
   "source": [
    "### Hyperparameters\n",
    "Tune the following parameters:\n",
    "* Set `epochs` to the number of iterations until the network stops learning or start overfitting\n",
    "* Set `batch_size` to the highest number that your machine has memory for.  Most people set them to common sizes of memory:\n",
    " * 64\n",
    " * 128\n",
    " * 256\n",
    " * ...\n",
    "* Set `keep_probability` to the probability of keeping a node using dropout"
   ]
  },
  {
   "cell_type": "code",
   "execution_count": 22,
   "metadata": {
    "collapsed": true,
    "deletable": true,
    "editable": true
   },
   "outputs": [],
   "source": [
    "# TODO: Tune Parameters\n",
    "epochs = 50\n",
    "batch_size = 512\n",
    "keep_probability = 0.5"
   ]
  },
  {
   "cell_type": "markdown",
   "metadata": {
    "deletable": true,
    "editable": true
   },
   "source": [
    "### Train on a Single CIFAR-10 Batch\n",
    "Instead of training the neural network on all the CIFAR-10 batches of data, let's use a single batch. This should save time while you iterate on the model to get a better accuracy.  Once the final validation accuracy is 50% or greater, run the model on all the data in the next section."
   ]
  },
  {
   "cell_type": "code",
   "execution_count": 30,
   "metadata": {
    "collapsed": false,
    "deletable": true,
    "editable": true
   },
   "outputs": [
    {
     "name": "stdout",
     "output_type": "stream",
     "text": [
      "Checking the Training on a Single Batch...\n",
      "Epoch  1, CIFAR-10 Batch 1:  Loss:     2.3020 Accuracy: 0.097200\n",
      "Epoch  2, CIFAR-10 Batch 1:  Loss:     2.2944 Accuracy: 0.183600\n",
      "Epoch  3, CIFAR-10 Batch 1:  Loss:     2.2313 Accuracy: 0.168200\n",
      "Epoch  4, CIFAR-10 Batch 1:  Loss:     2.1978 Accuracy: 0.207000\n",
      "Epoch  5, CIFAR-10 Batch 1:  Loss:     2.1472 Accuracy: 0.254400\n",
      "Epoch  6, CIFAR-10 Batch 1:  Loss:     2.0630 Accuracy: 0.315400\n",
      "Epoch  7, CIFAR-10 Batch 1:  Loss:     1.9904 Accuracy: 0.350000\n",
      "Epoch  8, CIFAR-10 Batch 1:  Loss:     1.9086 Accuracy: 0.373200\n",
      "Epoch  9, CIFAR-10 Batch 1:  Loss:     1.8305 Accuracy: 0.397000\n",
      "Epoch 10, CIFAR-10 Batch 1:  Loss:     1.7686 Accuracy: 0.420600\n",
      "Epoch 11, CIFAR-10 Batch 1:  Loss:     1.6931 Accuracy: 0.427600\n",
      "Epoch 12, CIFAR-10 Batch 1:  Loss:     1.6498 Accuracy: 0.438400\n",
      "Epoch 13, CIFAR-10 Batch 1:  Loss:     1.6026 Accuracy: 0.419800\n",
      "Epoch 14, CIFAR-10 Batch 1:  Loss:     1.5239 Accuracy: 0.435800\n",
      "Epoch 15, CIFAR-10 Batch 1:  Loss:     1.4630 Accuracy: 0.472400\n",
      "Epoch 16, CIFAR-10 Batch 1:  Loss:     1.4248 Accuracy: 0.472600\n",
      "Epoch 17, CIFAR-10 Batch 1:  Loss:     1.3914 Accuracy: 0.473000\n",
      "Epoch 18, CIFAR-10 Batch 1:  Loss:     1.3487 Accuracy: 0.480000\n",
      "Epoch 19, CIFAR-10 Batch 1:  Loss:     1.2754 Accuracy: 0.497200\n",
      "Epoch 20, CIFAR-10 Batch 1:  Loss:     1.2435 Accuracy: 0.501600\n",
      "Epoch 21, CIFAR-10 Batch 1:  Loss:     1.2646 Accuracy: 0.507400\n",
      "Epoch 22, CIFAR-10 Batch 1:  Loss:     1.2070 Accuracy: 0.504200\n",
      "Epoch 23, CIFAR-10 Batch 1:  Loss:     1.1727 Accuracy: 0.509800\n",
      "Epoch 24, CIFAR-10 Batch 1:  Loss:     1.1321 Accuracy: 0.510600\n",
      "Epoch 25, CIFAR-10 Batch 1:  Loss:     1.0982 Accuracy: 0.526000\n",
      "Epoch 26, CIFAR-10 Batch 1:  Loss:     1.1429 Accuracy: 0.503600\n",
      "Epoch 27, CIFAR-10 Batch 1:  Loss:     1.0639 Accuracy: 0.525200\n",
      "Epoch 28, CIFAR-10 Batch 1:  Loss:     1.0360 Accuracy: 0.522400\n",
      "Epoch 29, CIFAR-10 Batch 1:  Loss:     0.9976 Accuracy: 0.523600\n",
      "Epoch 30, CIFAR-10 Batch 1:  Loss:     0.9526 Accuracy: 0.539200\n",
      "Epoch 31, CIFAR-10 Batch 1:  Loss:     0.9455 Accuracy: 0.540000\n",
      "Epoch 32, CIFAR-10 Batch 1:  Loss:     0.8681 Accuracy: 0.554600\n",
      "Epoch 33, CIFAR-10 Batch 1:  Loss:     0.8400 Accuracy: 0.553800\n",
      "Epoch 34, CIFAR-10 Batch 1:  Loss:     0.8520 Accuracy: 0.562400\n",
      "Epoch 35, CIFAR-10 Batch 1:  Loss:     0.8119 Accuracy: 0.554800\n",
      "Epoch 36, CIFAR-10 Batch 1:  Loss:     0.8061 Accuracy: 0.562000\n",
      "Epoch 37, CIFAR-10 Batch 1:  Loss:     0.7741 Accuracy: 0.570000\n",
      "Epoch 38, CIFAR-10 Batch 1:  Loss:     0.7233 Accuracy: 0.574400\n",
      "Epoch 39, CIFAR-10 Batch 1:  Loss:     0.7187 Accuracy: 0.566800\n",
      "Epoch 40, CIFAR-10 Batch 1:  Loss:     0.6777 Accuracy: 0.584200\n",
      "Epoch 41, CIFAR-10 Batch 1:  Loss:     0.6622 Accuracy: 0.590000\n",
      "Epoch 42, CIFAR-10 Batch 1:  Loss:     0.6621 Accuracy: 0.594200\n",
      "Epoch 43, CIFAR-10 Batch 1:  Loss:     0.6592 Accuracy: 0.580400\n",
      "Epoch 44, CIFAR-10 Batch 1:  Loss:     0.6039 Accuracy: 0.595400\n",
      "Epoch 45, CIFAR-10 Batch 1:  Loss:     0.5718 Accuracy: 0.594200\n",
      "Epoch 46, CIFAR-10 Batch 1:  Loss:     0.5607 Accuracy: 0.599200\n",
      "Epoch 47, CIFAR-10 Batch 1:  Loss:     0.5736 Accuracy: 0.582000\n",
      "Epoch 48, CIFAR-10 Batch 1:  Loss:     0.5228 Accuracy: 0.596800\n",
      "Epoch 49, CIFAR-10 Batch 1:  Loss:     0.5270 Accuracy: 0.599200\n",
      "Epoch 50, CIFAR-10 Batch 1:  Loss:     0.5219 Accuracy: 0.595000\n"
     ]
    }
   ],
   "source": [
    "\"\"\"\n",
    "DON'T MODIFY ANYTHING IN THIS CELL\n",
    "\"\"\"\n",
    "print('Checking the Training on a Single Batch...')\n",
    "with tf.Session() as sess:\n",
    "    # Initializing the variables\n",
    "    sess.run(tf.global_variables_initializer())\n",
    "    # Training cycle\n",
    "    for epoch in range(epochs):\n",
    "        batch_i = 1\n",
    "        for batch_features, batch_labels in helper.load_preprocess_training_batch(batch_i, batch_size):\n",
    "            train_neural_network(sess, optimizer, keep_probability, batch_features, batch_labels)\n",
    "        print('Epoch {:>2}, CIFAR-10 Batch {}:  '.format(epoch + 1, batch_i), end='')\n",
    "        print_stats(sess, batch_features, batch_labels, cost, accuracy)"
   ]
  },
  {
   "cell_type": "markdown",
   "metadata": {
    "deletable": true,
    "editable": true
   },
   "source": [
    "### Fully Train the Model\n",
    "Now that you got a good accuracy with a single CIFAR-10 batch, try it with all five batches."
   ]
  },
  {
   "cell_type": "code",
   "execution_count": 31,
   "metadata": {
    "collapsed": false,
    "deletable": true,
    "editable": true
   },
   "outputs": [
    {
     "name": "stdout",
     "output_type": "stream",
     "text": [
      "Training...\n",
      "Epoch  1, CIFAR-10 Batch 1:  Loss:     2.3006 Accuracy: 0.101200\n",
      "Epoch  1, CIFAR-10 Batch 2:  Loss:     2.2520 Accuracy: 0.196000\n",
      "Epoch  1, CIFAR-10 Batch 3:  Loss:     2.2139 Accuracy: 0.201200\n",
      "Epoch  1, CIFAR-10 Batch 4:  Loss:     2.0993 Accuracy: 0.222600\n",
      "Epoch  1, CIFAR-10 Batch 5:  Loss:     2.0565 Accuracy: 0.296000\n",
      "Epoch  2, CIFAR-10 Batch 1:  Loss:     2.0139 Accuracy: 0.317600\n",
      "Epoch  2, CIFAR-10 Batch 2:  Loss:     1.8657 Accuracy: 0.339600\n",
      "Epoch  2, CIFAR-10 Batch 3:  Loss:     1.7649 Accuracy: 0.354600\n",
      "Epoch  2, CIFAR-10 Batch 4:  Loss:     1.6872 Accuracy: 0.385800\n",
      "Epoch  2, CIFAR-10 Batch 5:  Loss:     1.6702 Accuracy: 0.388600\n",
      "Epoch  3, CIFAR-10 Batch 1:  Loss:     1.6988 Accuracy: 0.406400\n",
      "Epoch  3, CIFAR-10 Batch 2:  Loss:     1.6368 Accuracy: 0.429600\n",
      "Epoch  3, CIFAR-10 Batch 3:  Loss:     1.4924 Accuracy: 0.441200\n",
      "Epoch  3, CIFAR-10 Batch 4:  Loss:     1.4660 Accuracy: 0.449800\n",
      "Epoch  3, CIFAR-10 Batch 5:  Loss:     1.4862 Accuracy: 0.452800\n",
      "Epoch  4, CIFAR-10 Batch 1:  Loss:     1.5747 Accuracy: 0.442600\n",
      "Epoch  4, CIFAR-10 Batch 2:  Loss:     1.5072 Accuracy: 0.476600\n",
      "Epoch  4, CIFAR-10 Batch 3:  Loss:     1.3373 Accuracy: 0.456800\n",
      "Epoch  4, CIFAR-10 Batch 4:  Loss:     1.3575 Accuracy: 0.489400\n",
      "Epoch  4, CIFAR-10 Batch 5:  Loss:     1.3746 Accuracy: 0.483800\n",
      "Epoch  5, CIFAR-10 Batch 1:  Loss:     1.4531 Accuracy: 0.499000\n",
      "Epoch  5, CIFAR-10 Batch 2:  Loss:     1.4237 Accuracy: 0.504600\n",
      "Epoch  5, CIFAR-10 Batch 3:  Loss:     1.2024 Accuracy: 0.508800\n",
      "Epoch  5, CIFAR-10 Batch 4:  Loss:     1.2641 Accuracy: 0.519000\n",
      "Epoch  5, CIFAR-10 Batch 5:  Loss:     1.2717 Accuracy: 0.524800\n",
      "Epoch  6, CIFAR-10 Batch 1:  Loss:     1.3766 Accuracy: 0.529800\n",
      "Epoch  6, CIFAR-10 Batch 2:  Loss:     1.3030 Accuracy: 0.540000\n",
      "Epoch  6, CIFAR-10 Batch 3:  Loss:     1.1569 Accuracy: 0.533200\n",
      "Epoch  6, CIFAR-10 Batch 4:  Loss:     1.1894 Accuracy: 0.538600\n",
      "Epoch  6, CIFAR-10 Batch 5:  Loss:     1.2037 Accuracy: 0.555600\n",
      "Epoch  7, CIFAR-10 Batch 1:  Loss:     1.2894 Accuracy: 0.552800\n",
      "Epoch  7, CIFAR-10 Batch 2:  Loss:     1.2101 Accuracy: 0.548200\n",
      "Epoch  7, CIFAR-10 Batch 3:  Loss:     1.0779 Accuracy: 0.555400\n",
      "Epoch  7, CIFAR-10 Batch 4:  Loss:     1.0964 Accuracy: 0.566200\n",
      "Epoch  7, CIFAR-10 Batch 5:  Loss:     1.1321 Accuracy: 0.560000\n",
      "Epoch  8, CIFAR-10 Batch 1:  Loss:     1.2197 Accuracy: 0.565600\n",
      "Epoch  8, CIFAR-10 Batch 2:  Loss:     1.1442 Accuracy: 0.567800\n",
      "Epoch  8, CIFAR-10 Batch 3:  Loss:     0.9989 Accuracy: 0.576600\n",
      "Epoch  8, CIFAR-10 Batch 4:  Loss:     1.0109 Accuracy: 0.573000\n",
      "Epoch  8, CIFAR-10 Batch 5:  Loss:     1.0600 Accuracy: 0.580800\n",
      "Epoch  9, CIFAR-10 Batch 1:  Loss:     1.1516 Accuracy: 0.575400\n",
      "Epoch  9, CIFAR-10 Batch 2:  Loss:     1.0986 Accuracy: 0.577000\n",
      "Epoch  9, CIFAR-10 Batch 3:  Loss:     0.9462 Accuracy: 0.584000\n",
      "Epoch  9, CIFAR-10 Batch 4:  Loss:     0.9757 Accuracy: 0.592800\n",
      "Epoch  9, CIFAR-10 Batch 5:  Loss:     0.9980 Accuracy: 0.590600\n",
      "Epoch 10, CIFAR-10 Batch 1:  Loss:     1.0925 Accuracy: 0.582800\n",
      "Epoch 10, CIFAR-10 Batch 2:  Loss:     1.0232 Accuracy: 0.595800\n",
      "Epoch 10, CIFAR-10 Batch 3:  Loss:     0.9331 Accuracy: 0.589200\n",
      "Epoch 10, CIFAR-10 Batch 4:  Loss:     0.9331 Accuracy: 0.599800\n",
      "Epoch 10, CIFAR-10 Batch 5:  Loss:     0.9414 Accuracy: 0.611200\n",
      "Epoch 11, CIFAR-10 Batch 1:  Loss:     1.0578 Accuracy: 0.588200\n",
      "Epoch 11, CIFAR-10 Batch 2:  Loss:     1.0008 Accuracy: 0.599000\n",
      "Epoch 11, CIFAR-10 Batch 3:  Loss:     0.8860 Accuracy: 0.616000\n",
      "Epoch 11, CIFAR-10 Batch 4:  Loss:     0.9212 Accuracy: 0.605200\n",
      "Epoch 11, CIFAR-10 Batch 5:  Loss:     0.9208 Accuracy: 0.614800\n",
      "Epoch 12, CIFAR-10 Batch 1:  Loss:     1.0132 Accuracy: 0.610200\n",
      "Epoch 12, CIFAR-10 Batch 2:  Loss:     0.8996 Accuracy: 0.620200\n",
      "Epoch 12, CIFAR-10 Batch 3:  Loss:     0.8289 Accuracy: 0.624000\n",
      "Epoch 12, CIFAR-10 Batch 4:  Loss:     0.8491 Accuracy: 0.625600\n",
      "Epoch 12, CIFAR-10 Batch 5:  Loss:     0.8762 Accuracy: 0.621000\n",
      "Epoch 13, CIFAR-10 Batch 1:  Loss:     0.9199 Accuracy: 0.632600\n",
      "Epoch 13, CIFAR-10 Batch 2:  Loss:     0.8879 Accuracy: 0.620000\n",
      "Epoch 13, CIFAR-10 Batch 3:  Loss:     0.8039 Accuracy: 0.614600\n",
      "Epoch 13, CIFAR-10 Batch 4:  Loss:     0.8308 Accuracy: 0.625400\n",
      "Epoch 13, CIFAR-10 Batch 5:  Loss:     0.8045 Accuracy: 0.639200\n",
      "Epoch 14, CIFAR-10 Batch 1:  Loss:     0.9287 Accuracy: 0.621000\n",
      "Epoch 14, CIFAR-10 Batch 2:  Loss:     0.8613 Accuracy: 0.636000\n",
      "Epoch 14, CIFAR-10 Batch 3:  Loss:     0.7508 Accuracy: 0.643400\n",
      "Epoch 14, CIFAR-10 Batch 4:  Loss:     0.7675 Accuracy: 0.647000\n",
      "Epoch 14, CIFAR-10 Batch 5:  Loss:     0.8029 Accuracy: 0.638400\n",
      "Epoch 15, CIFAR-10 Batch 1:  Loss:     0.8552 Accuracy: 0.643800\n",
      "Epoch 15, CIFAR-10 Batch 2:  Loss:     0.7956 Accuracy: 0.647000\n",
      "Epoch 15, CIFAR-10 Batch 3:  Loss:     0.7744 Accuracy: 0.618200\n",
      "Epoch 15, CIFAR-10 Batch 4:  Loss:     0.7904 Accuracy: 0.638200\n",
      "Epoch 15, CIFAR-10 Batch 5:  Loss:     0.7794 Accuracy: 0.658600\n",
      "Epoch 16, CIFAR-10 Batch 1:  Loss:     0.7931 Accuracy: 0.655800\n",
      "Epoch 16, CIFAR-10 Batch 2:  Loss:     0.7986 Accuracy: 0.661200\n",
      "Epoch 16, CIFAR-10 Batch 3:  Loss:     0.6994 Accuracy: 0.656000\n",
      "Epoch 16, CIFAR-10 Batch 4:  Loss:     0.7086 Accuracy: 0.654000\n",
      "Epoch 16, CIFAR-10 Batch 5:  Loss:     0.7559 Accuracy: 0.648200\n",
      "Epoch 17, CIFAR-10 Batch 1:  Loss:     0.7920 Accuracy: 0.659200\n",
      "Epoch 17, CIFAR-10 Batch 2:  Loss:     0.7629 Accuracy: 0.662600\n",
      "Epoch 17, CIFAR-10 Batch 3:  Loss:     0.6915 Accuracy: 0.661200\n",
      "Epoch 17, CIFAR-10 Batch 4:  Loss:     0.6838 Accuracy: 0.661200\n",
      "Epoch 17, CIFAR-10 Batch 5:  Loss:     0.7222 Accuracy: 0.666000\n",
      "Epoch 18, CIFAR-10 Batch 1:  Loss:     0.7701 Accuracy: 0.661400\n",
      "Epoch 18, CIFAR-10 Batch 2:  Loss:     0.7352 Accuracy: 0.666400\n",
      "Epoch 18, CIFAR-10 Batch 3:  Loss:     0.6421 Accuracy: 0.669800\n",
      "Epoch 18, CIFAR-10 Batch 4:  Loss:     0.6361 Accuracy: 0.668400\n",
      "Epoch 18, CIFAR-10 Batch 5:  Loss:     0.6976 Accuracy: 0.662000\n",
      "Epoch 19, CIFAR-10 Batch 1:  Loss:     0.7428 Accuracy: 0.666800\n",
      "Epoch 19, CIFAR-10 Batch 2:  Loss:     0.6893 Accuracy: 0.673000\n",
      "Epoch 19, CIFAR-10 Batch 3:  Loss:     0.6502 Accuracy: 0.663400\n",
      "Epoch 19, CIFAR-10 Batch 4:  Loss:     0.6241 Accuracy: 0.671000\n",
      "Epoch 19, CIFAR-10 Batch 5:  Loss:     0.7198 Accuracy: 0.674000\n",
      "Epoch 20, CIFAR-10 Batch 1:  Loss:     0.7159 Accuracy: 0.672800\n",
      "Epoch 20, CIFAR-10 Batch 2:  Loss:     0.6675 Accuracy: 0.681000\n",
      "Epoch 20, CIFAR-10 Batch 3:  Loss:     0.6231 Accuracy: 0.670800\n",
      "Epoch 20, CIFAR-10 Batch 4:  Loss:     0.6082 Accuracy: 0.678600\n",
      "Epoch 20, CIFAR-10 Batch 5:  Loss:     0.6385 Accuracy: 0.672200\n",
      "Epoch 21, CIFAR-10 Batch 1:  Loss:     0.6594 Accuracy: 0.677400\n",
      "Epoch 21, CIFAR-10 Batch 2:  Loss:     0.6521 Accuracy: 0.686600\n",
      "Epoch 21, CIFAR-10 Batch 3:  Loss:     0.5963 Accuracy: 0.676600\n",
      "Epoch 21, CIFAR-10 Batch 4:  Loss:     0.5647 Accuracy: 0.682600\n",
      "Epoch 21, CIFAR-10 Batch 5:  Loss:     0.6276 Accuracy: 0.681000\n",
      "Epoch 22, CIFAR-10 Batch 1:  Loss:     0.6440 Accuracy: 0.683600\n",
      "Epoch 22, CIFAR-10 Batch 2:  Loss:     0.6360 Accuracy: 0.683200\n",
      "Epoch 22, CIFAR-10 Batch 3:  Loss:     0.5697 Accuracy: 0.688200\n",
      "Epoch 22, CIFAR-10 Batch 4:  Loss:     0.5577 Accuracy: 0.690600\n",
      "Epoch 22, CIFAR-10 Batch 5:  Loss:     0.6013 Accuracy: 0.682200\n",
      "Epoch 23, CIFAR-10 Batch 1:  Loss:     0.6124 Accuracy: 0.695400\n",
      "Epoch 23, CIFAR-10 Batch 2:  Loss:     0.6173 Accuracy: 0.686400\n",
      "Epoch 23, CIFAR-10 Batch 3:  Loss:     0.5312 Accuracy: 0.696000\n",
      "Epoch 23, CIFAR-10 Batch 4:  Loss:     0.5191 Accuracy: 0.699000\n",
      "Epoch 23, CIFAR-10 Batch 5:  Loss:     0.5810 Accuracy: 0.690800\n",
      "Epoch 24, CIFAR-10 Batch 1:  Loss:     0.6471 Accuracy: 0.681400\n",
      "Epoch 24, CIFAR-10 Batch 2:  Loss:     0.6054 Accuracy: 0.675800\n",
      "Epoch 24, CIFAR-10 Batch 3:  Loss:     0.5370 Accuracy: 0.687600\n",
      "Epoch 24, CIFAR-10 Batch 4:  Loss:     0.5176 Accuracy: 0.690600\n",
      "Epoch 24, CIFAR-10 Batch 5:  Loss:     0.5686 Accuracy: 0.690600\n",
      "Epoch 25, CIFAR-10 Batch 1:  Loss:     0.5927 Accuracy: 0.701000\n",
      "Epoch 25, CIFAR-10 Batch 2:  Loss:     0.5715 Accuracy: 0.692400\n",
      "Epoch 25, CIFAR-10 Batch 3:  Loss:     0.5102 Accuracy: 0.699400\n",
      "Epoch 25, CIFAR-10 Batch 4:  Loss:     0.5115 Accuracy: 0.691000\n",
      "Epoch 25, CIFAR-10 Batch 5:  Loss:     0.5455 Accuracy: 0.690400\n",
      "Epoch 26, CIFAR-10 Batch 1:  Loss:     0.5786 Accuracy: 0.702800\n",
      "Epoch 26, CIFAR-10 Batch 2:  Loss:     0.5404 Accuracy: 0.700800\n",
      "Epoch 26, CIFAR-10 Batch 3:  Loss:     0.4752 Accuracy: 0.701800\n",
      "Epoch 26, CIFAR-10 Batch 4:  Loss:     0.4782 Accuracy: 0.701000\n",
      "Epoch 26, CIFAR-10 Batch 5:  Loss:     0.5160 Accuracy: 0.700400\n",
      "Epoch 27, CIFAR-10 Batch 1:  Loss:     0.5534 Accuracy: 0.705000\n",
      "Epoch 27, CIFAR-10 Batch 2:  Loss:     0.5293 Accuracy: 0.707600\n",
      "Epoch 27, CIFAR-10 Batch 3:  Loss:     0.4748 Accuracy: 0.703000\n",
      "Epoch 27, CIFAR-10 Batch 4:  Loss:     0.4646 Accuracy: 0.703000\n",
      "Epoch 27, CIFAR-10 Batch 5:  Loss:     0.5047 Accuracy: 0.698600\n",
      "Epoch 28, CIFAR-10 Batch 1:  Loss:     0.5415 Accuracy: 0.702000\n",
      "Epoch 28, CIFAR-10 Batch 2:  Loss:     0.4992 Accuracy: 0.702400\n",
      "Epoch 28, CIFAR-10 Batch 3:  Loss:     0.4606 Accuracy: 0.703600\n",
      "Epoch 28, CIFAR-10 Batch 4:  Loss:     0.4492 Accuracy: 0.706600\n",
      "Epoch 28, CIFAR-10 Batch 5:  Loss:     0.5313 Accuracy: 0.695600\n",
      "Epoch 29, CIFAR-10 Batch 1:  Loss:     0.5115 Accuracy: 0.693200\n",
      "Epoch 29, CIFAR-10 Batch 2:  Loss:     0.5015 Accuracy: 0.699600\n",
      "Epoch 29, CIFAR-10 Batch 3:  Loss:     0.4155 Accuracy: 0.713200\n",
      "Epoch 29, CIFAR-10 Batch 4:  Loss:     0.4634 Accuracy: 0.692400\n",
      "Epoch 29, CIFAR-10 Batch 5:  Loss:     0.4718 Accuracy: 0.697200\n",
      "Epoch 30, CIFAR-10 Batch 1:  Loss:     0.4593 Accuracy: 0.711600\n",
      "Epoch 30, CIFAR-10 Batch 2:  Loss:     0.4950 Accuracy: 0.714000\n",
      "Epoch 30, CIFAR-10 Batch 3:  Loss:     0.4670 Accuracy: 0.707600\n",
      "Epoch 30, CIFAR-10 Batch 4:  Loss:     0.4173 Accuracy: 0.710600\n",
      "Epoch 30, CIFAR-10 Batch 5:  Loss:     0.4680 Accuracy: 0.714800\n",
      "Epoch 31, CIFAR-10 Batch 1:  Loss:     0.4613 Accuracy: 0.719400\n",
      "Epoch 31, CIFAR-10 Batch 2:  Loss:     0.4518 Accuracy: 0.718800\n",
      "Epoch 31, CIFAR-10 Batch 3:  Loss:     0.4161 Accuracy: 0.718200\n",
      "Epoch 31, CIFAR-10 Batch 4:  Loss:     0.4117 Accuracy: 0.703400\n",
      "Epoch 31, CIFAR-10 Batch 5:  Loss:     0.4433 Accuracy: 0.706400\n",
      "Epoch 32, CIFAR-10 Batch 1:  Loss:     0.4463 Accuracy: 0.714200\n",
      "Epoch 32, CIFAR-10 Batch 2:  Loss:     0.4438 Accuracy: 0.713400\n",
      "Epoch 32, CIFAR-10 Batch 3:  Loss:     0.4174 Accuracy: 0.710200\n",
      "Epoch 32, CIFAR-10 Batch 4:  Loss:     0.3872 Accuracy: 0.714600\n",
      "Epoch 32, CIFAR-10 Batch 5:  Loss:     0.4275 Accuracy: 0.715200\n",
      "Epoch 33, CIFAR-10 Batch 1:  Loss:     0.4207 Accuracy: 0.712000\n",
      "Epoch 33, CIFAR-10 Batch 2:  Loss:     0.4288 Accuracy: 0.719400\n",
      "Epoch 33, CIFAR-10 Batch 3:  Loss:     0.3770 Accuracy: 0.713800\n",
      "Epoch 33, CIFAR-10 Batch 4:  Loss:     0.3791 Accuracy: 0.717200\n",
      "Epoch 33, CIFAR-10 Batch 5:  Loss:     0.4391 Accuracy: 0.714400\n",
      "Epoch 34, CIFAR-10 Batch 1:  Loss:     0.4139 Accuracy: 0.719600\n",
      "Epoch 34, CIFAR-10 Batch 2:  Loss:     0.4225 Accuracy: 0.725000\n",
      "Epoch 34, CIFAR-10 Batch 3:  Loss:     0.3758 Accuracy: 0.712600\n",
      "Epoch 34, CIFAR-10 Batch 4:  Loss:     0.4009 Accuracy: 0.699600\n",
      "Epoch 34, CIFAR-10 Batch 5:  Loss:     0.4279 Accuracy: 0.719000\n",
      "Epoch 35, CIFAR-10 Batch 1:  Loss:     0.3976 Accuracy: 0.711600\n",
      "Epoch 35, CIFAR-10 Batch 2:  Loss:     0.4243 Accuracy: 0.721600\n",
      "Epoch 35, CIFAR-10 Batch 3:  Loss:     0.3429 Accuracy: 0.720200\n",
      "Epoch 35, CIFAR-10 Batch 4:  Loss:     0.3510 Accuracy: 0.718000\n",
      "Epoch 35, CIFAR-10 Batch 5:  Loss:     0.4137 Accuracy: 0.709200\n",
      "Epoch 36, CIFAR-10 Batch 1:  Loss:     0.3537 Accuracy: 0.723000\n",
      "Epoch 36, CIFAR-10 Batch 2:  Loss:     0.3922 Accuracy: 0.719600\n",
      "Epoch 36, CIFAR-10 Batch 3:  Loss:     0.3759 Accuracy: 0.718000\n",
      "Epoch 36, CIFAR-10 Batch 4:  Loss:     0.3464 Accuracy: 0.714600\n",
      "Epoch 36, CIFAR-10 Batch 5:  Loss:     0.4027 Accuracy: 0.718800\n",
      "Epoch 37, CIFAR-10 Batch 1:  Loss:     0.3859 Accuracy: 0.714800\n",
      "Epoch 37, CIFAR-10 Batch 2:  Loss:     0.3868 Accuracy: 0.721600\n",
      "Epoch 37, CIFAR-10 Batch 3:  Loss:     0.3376 Accuracy: 0.721400\n",
      "Epoch 37, CIFAR-10 Batch 4:  Loss:     0.3381 Accuracy: 0.710400\n",
      "Epoch 37, CIFAR-10 Batch 5:  Loss:     0.3789 Accuracy: 0.728200\n",
      "Epoch 38, CIFAR-10 Batch 1:  Loss:     0.3742 Accuracy: 0.715800\n",
      "Epoch 38, CIFAR-10 Batch 2:  Loss:     0.3904 Accuracy: 0.727400\n",
      "Epoch 38, CIFAR-10 Batch 3:  Loss:     0.3199 Accuracy: 0.727400\n",
      "Epoch 38, CIFAR-10 Batch 4:  Loss:     0.3181 Accuracy: 0.718400\n",
      "Epoch 38, CIFAR-10 Batch 5:  Loss:     0.3930 Accuracy: 0.720000\n",
      "Epoch 39, CIFAR-10 Batch 1:  Loss:     0.3720 Accuracy: 0.714200\n",
      "Epoch 39, CIFAR-10 Batch 2:  Loss:     0.3855 Accuracy: 0.726800\n",
      "Epoch 39, CIFAR-10 Batch 3:  Loss:     0.3334 Accuracy: 0.719600\n",
      "Epoch 39, CIFAR-10 Batch 4:  Loss:     0.3045 Accuracy: 0.723200\n",
      "Epoch 39, CIFAR-10 Batch 5:  Loss:     0.3587 Accuracy: 0.720600\n",
      "Epoch 40, CIFAR-10 Batch 1:  Loss:     0.3663 Accuracy: 0.713400\n",
      "Epoch 40, CIFAR-10 Batch 2:  Loss:     0.3705 Accuracy: 0.731600\n",
      "Epoch 40, CIFAR-10 Batch 3:  Loss:     0.2969 Accuracy: 0.725000\n",
      "Epoch 40, CIFAR-10 Batch 4:  Loss:     0.2916 Accuracy: 0.728000\n",
      "Epoch 40, CIFAR-10 Batch 5:  Loss:     0.3596 Accuracy: 0.720600\n",
      "Epoch 41, CIFAR-10 Batch 1:  Loss:     0.3185 Accuracy: 0.723800\n",
      "Epoch 41, CIFAR-10 Batch 2:  Loss:     0.3736 Accuracy: 0.722400\n",
      "Epoch 41, CIFAR-10 Batch 3:  Loss:     0.2740 Accuracy: 0.729800\n",
      "Epoch 41, CIFAR-10 Batch 4:  Loss:     0.2834 Accuracy: 0.723600\n",
      "Epoch 41, CIFAR-10 Batch 5:  Loss:     0.3448 Accuracy: 0.722400\n",
      "Epoch 42, CIFAR-10 Batch 1:  Loss:     0.3274 Accuracy: 0.720600\n",
      "Epoch 42, CIFAR-10 Batch 2:  Loss:     0.3503 Accuracy: 0.732000\n",
      "Epoch 42, CIFAR-10 Batch 3:  Loss:     0.2753 Accuracy: 0.733000\n",
      "Epoch 42, CIFAR-10 Batch 4:  Loss:     0.2773 Accuracy: 0.723400\n",
      "Epoch 42, CIFAR-10 Batch 5:  Loss:     0.3291 Accuracy: 0.732800\n",
      "Epoch 43, CIFAR-10 Batch 1:  Loss:     0.3005 Accuracy: 0.724400\n",
      "Epoch 43, CIFAR-10 Batch 2:  Loss:     0.3329 Accuracy: 0.738000\n",
      "Epoch 43, CIFAR-10 Batch 3:  Loss:     0.2784 Accuracy: 0.720200\n",
      "Epoch 43, CIFAR-10 Batch 4:  Loss:     0.2822 Accuracy: 0.722800\n",
      "Epoch 43, CIFAR-10 Batch 5:  Loss:     0.3132 Accuracy: 0.731600\n",
      "Epoch 44, CIFAR-10 Batch 1:  Loss:     0.3017 Accuracy: 0.728600\n",
      "Epoch 44, CIFAR-10 Batch 2:  Loss:     0.3253 Accuracy: 0.729400\n",
      "Epoch 44, CIFAR-10 Batch 3:  Loss:     0.2607 Accuracy: 0.731000\n",
      "Epoch 44, CIFAR-10 Batch 4:  Loss:     0.2606 Accuracy: 0.734400\n",
      "Epoch 44, CIFAR-10 Batch 5:  Loss:     0.2954 Accuracy: 0.732600\n",
      "Epoch 45, CIFAR-10 Batch 1:  Loss:     0.2960 Accuracy: 0.733400\n",
      "Epoch 45, CIFAR-10 Batch 2:  Loss:     0.3044 Accuracy: 0.733400\n",
      "Epoch 45, CIFAR-10 Batch 3:  Loss:     0.2389 Accuracy: 0.737600\n",
      "Epoch 45, CIFAR-10 Batch 4:  Loss:     0.2470 Accuracy: 0.725800\n",
      "Epoch 45, CIFAR-10 Batch 5:  Loss:     0.2848 Accuracy: 0.734800\n",
      "Epoch 46, CIFAR-10 Batch 1:  Loss:     0.2847 Accuracy: 0.717000\n",
      "Epoch 46, CIFAR-10 Batch 2:  Loss:     0.2879 Accuracy: 0.733800\n",
      "Epoch 46, CIFAR-10 Batch 3:  Loss:     0.2531 Accuracy: 0.731000\n",
      "Epoch 46, CIFAR-10 Batch 4:  Loss:     0.2596 Accuracy: 0.729400\n",
      "Epoch 46, CIFAR-10 Batch 5:  Loss:     0.2708 Accuracy: 0.735400\n",
      "Epoch 47, CIFAR-10 Batch 1:  Loss:     0.2696 Accuracy: 0.728800\n",
      "Epoch 47, CIFAR-10 Batch 2:  Loss:     0.3084 Accuracy: 0.722000\n",
      "Epoch 47, CIFAR-10 Batch 3:  Loss:     0.2437 Accuracy: 0.726400\n",
      "Epoch 47, CIFAR-10 Batch 4:  Loss:     0.2306 Accuracy: 0.732600\n",
      "Epoch 47, CIFAR-10 Batch 5:  Loss:     0.2854 Accuracy: 0.732800\n",
      "Epoch 48, CIFAR-10 Batch 1:  Loss:     0.2646 Accuracy: 0.726800\n",
      "Epoch 48, CIFAR-10 Batch 2:  Loss:     0.2764 Accuracy: 0.737200\n",
      "Epoch 48, CIFAR-10 Batch 3:  Loss:     0.2331 Accuracy: 0.726200\n",
      "Epoch 48, CIFAR-10 Batch 4:  Loss:     0.2476 Accuracy: 0.729800\n",
      "Epoch 48, CIFAR-10 Batch 5:  Loss:     0.2612 Accuracy: 0.731800\n",
      "Epoch 49, CIFAR-10 Batch 1:  Loss:     0.2771 Accuracy: 0.728800\n",
      "Epoch 49, CIFAR-10 Batch 2:  Loss:     0.2699 Accuracy: 0.733800\n",
      "Epoch 49, CIFAR-10 Batch 3:  Loss:     0.2267 Accuracy: 0.735000\n",
      "Epoch 49, CIFAR-10 Batch 4:  Loss:     0.2286 Accuracy: 0.730400\n",
      "Epoch 49, CIFAR-10 Batch 5:  Loss:     0.2837 Accuracy: 0.727400\n",
      "Epoch 50, CIFAR-10 Batch 1:  Loss:     0.2606 Accuracy: 0.734000\n",
      "Epoch 50, CIFAR-10 Batch 2:  Loss:     0.2683 Accuracy: 0.732400\n",
      "Epoch 50, CIFAR-10 Batch 3:  Loss:     0.2423 Accuracy: 0.721000\n",
      "Epoch 50, CIFAR-10 Batch 4:  Loss:     0.2281 Accuracy: 0.722200\n",
      "Epoch 50, CIFAR-10 Batch 5:  Loss:     0.2516 Accuracy: 0.729800\n"
     ]
    }
   ],
   "source": [
    "\"\"\"\n",
    "DON'T MODIFY ANYTHING IN THIS CELL\n",
    "\"\"\"\n",
    "save_model_path = './image_classification'\n",
    "\n",
    "print('Training...')\n",
    "with tf.Session() as sess:\n",
    "    # Initializing the variables\n",
    "    sess.run(tf.global_variables_initializer())\n",
    "    \n",
    "    # Training cycle\n",
    "    for epoch in range(epochs):\n",
    "        # Loop over all batches\n",
    "        n_batches = 5\n",
    "        for batch_i in range(1, n_batches + 1):\n",
    "            for batch_features, batch_labels in helper.load_preprocess_training_batch(batch_i, batch_size):\n",
    "                train_neural_network(sess, optimizer, keep_probability, batch_features, batch_labels)\n",
    "            print('Epoch {:>2}, CIFAR-10 Batch {}:  '.format(epoch + 1, batch_i), end='')\n",
    "            print_stats(sess, batch_features, batch_labels, cost, accuracy)\n",
    "            \n",
    "    # Save Model\n",
    "    saver = tf.train.Saver()\n",
    "    save_path = saver.save(sess, save_model_path)"
   ]
  },
  {
   "cell_type": "markdown",
   "metadata": {
    "deletable": true,
    "editable": true
   },
   "source": [
    "# Checkpoint\n",
    "The model has been saved to disk.\n",
    "## Test Model\n",
    "Test your model against the test dataset.  This will be your final accuracy. You should have an accuracy greater than 50%. If you don't, keep tweaking the model architecture and parameters."
   ]
  },
  {
   "cell_type": "code",
   "execution_count": 33,
   "metadata": {
    "collapsed": false,
    "deletable": true,
    "editable": true
   },
   "outputs": [
    {
     "name": "stdout",
     "output_type": "stream",
     "text": [
      "Testing Accuracy: 0.7295438885688782\n",
      "\n"
     ]
    },
    {
     "data": {
      "image/png": "[encoded data removed]",
      "text/plain": [
       "<matplotlib.figure.Figure at 0x7f8de839ff28>"
      ]
     },
     "metadata": {
      "image/png": {
       "height": 319,
       "width": 355
      }
     },
     "output_type": "display_data"
    }
   ],
   "source": [
    "\"\"\"\n",
    "DON'T MODIFY ANYTHING IN THIS CELL\n",
    "\"\"\"\n",
    "%matplotlib inline\n",
    "%config InlineBackend.figure_format = 'retina'\n",
    "\n",
    "import tensorflow as tf\n",
    "import pickle\n",
    "import helper\n",
    "import random\n",
    "\n",
    "# Set batch size if not already set\n",
    "try:\n",
    "    if batch_size:\n",
    "        pass\n",
    "except NameError:\n",
    "    batch_size = 64\n",
    "\n",
    "save_model_path = './image_classification'\n",
    "n_samples = 4\n",
    "top_n_predictions = 3\n",
    "\n",
    "def test_model():\n",
    "    \"\"\"\n",
    "    Test the saved model against the test dataset\n",
    "    \"\"\"\n",
    "\n",
    "    test_features, test_labels = pickle.load(open('preprocess_training.p', mode='rb'))\n",
    "    loaded_graph = tf.Graph()\n",
    "\n",
    "    with tf.Session(graph=loaded_graph) as sess:\n",
    "        # Load model\n",
    "        loader = tf.train.import_meta_graph(save_model_path + '.meta')\n",
    "        loader.restore(sess, save_model_path)\n",
    "\n",
    "        # Get Tensors from loaded model\n",
    "        loaded_x = loaded_graph.get_tensor_by_name('x:0')\n",
    "        loaded_y = loaded_graph.get_tensor_by_name('y:0')\n",
    "        loaded_keep_prob = loaded_graph.get_tensor_by_name('keep_prob:0')\n",
    "        loaded_logits = loaded_graph.get_tensor_by_name('logits:0')\n",
    "        loaded_acc = loaded_graph.get_tensor_by_name('accuracy:0')\n",
    "        \n",
    "        # Get accuracy in batches for memory limitations\n",
    "        test_batch_acc_total = 0\n",
    "        test_batch_count = 0\n",
    "        \n",
    "        for train_feature_batch, train_label_batch in helper.batch_features_labels(test_features, test_labels, batch_size):\n",
    "            test_batch_acc_total += sess.run(\n",
    "                loaded_acc,\n",
    "                feed_dict={loaded_x: train_feature_batch, loaded_y: train_label_batch, loaded_keep_prob: 1.0})\n",
    "            test_batch_count += 1\n",
    "\n",
    "        print('Testing Accuracy: {}\\n'.format(test_batch_acc_total/test_batch_count))\n",
    "\n",
    "        # Print Random Samples\n",
    "        random_test_features, random_test_labels = tuple(zip(*random.sample(list(zip(test_features, test_labels)), n_samples)))\n",
    "        random_test_predictions = sess.run(\n",
    "            tf.nn.top_k(tf.nn.softmax(loaded_logits), top_n_predictions),\n",
    "            feed_dict={loaded_x: random_test_features, loaded_y: random_test_labels, loaded_keep_prob: 1.0})\n",
    "        helper.display_image_predictions(random_test_features, random_test_labels, random_test_predictions)\n",
    "\n",
    "\n",
    "test_model()"
   ]
  },
  {
   "cell_type": "markdown",
   "metadata": {
    "deletable": true,
    "editable": true
   },
   "source": [
    "## Why 50-70% Accuracy?\n",
    "You might be wondering why you can't get an accuracy any higher. First things first, 50% isn't bad for a simple CNN.  Pure guessing would get you 10% accuracy. However, you might notice people are getting scores [well above 70%](http://rodrigob.github.io/are_we_there_yet/build/classification_datasets_results.html#43494641522d3130).  That's because we haven't taught you all there is to know about neural networks. We still need to cover a few more techniques.\n",
    "## Submitting This Project\n",
    "When submitting this project, make sure to run all the cells before saving the notebook.  Save the notebook file as \"dlnd_image_classification.ipynb\" and save it as a HTML file under \"File\" -> \"Download as\".  Include the \"helper.py\" and \"problem_unittests.py\" files in your submission."
   ]
  }
 ],
 "metadata": {
  "kernelspec": {
   "display_name": "Python 3",
   "language": "python",
   "name": "python3"
  },
  "language_info": {
   "codemirror_mode": {
    "name": "ipython",
    "version": 3
   },
   "file_extension": ".py",
   "mimetype": "text/x-python",
   "name": "python",
   "nbconvert_exporter": "python",
   "pygments_lexer": "ipython3",
   "version": "3.5.2"
  },
  "widgets": {
   "state": {},
   "version": "1.1.2"
  }
 },
 "nbformat": 4,
 "nbformat_minor": 0
}
