{
 "cells": [
  {
   "cell_type": "markdown",
   "metadata": {
    "collapsed": true,
    "deletable": true,
    "editable": true
   },
   "source": [
    "# Image Classification\n",
    "In this project, you'll classify images from the [CIFAR-10 dataset](https://www.cs.toronto.edu/~kriz/cifar.html).  The dataset consists of airplanes, dogs, cats, and other objects. You'll preprocess the images, then train a convolutional neural network on all the samples. The images need to be normalized and the labels need to be one-hot encoded.  You'll get to apply what you learned and build a convolutional, max pooling, dropout, and fully connected layers.  At the end, you'll get to see your neural network's predictions on the sample images.\n",
    "## Get the Data\n",
    "Run the following cell to download the [CIFAR-10 dataset for python](https://www.cs.toronto.edu/~kriz/cifar-10-python.tar.gz)."
   ]
  },
  {
   "cell_type": "code",
   "execution_count": 1,
   "metadata": {
    "collapsed": false,
    "deletable": true,
    "editable": true
   },
   "outputs": [
    {
     "name": "stderr",
     "output_type": "stream",
     "text": [
      "CIFAR-10 Dataset: 171MB [02:18, 1.23MB/s]                              \n"
     ]
    },
    {
     "name": "stdout",
     "output_type": "stream",
     "text": [
      "All files found!\n"
     ]
    }
   ],
   "source": [
    "\"\"\"\n",
    "DON'T MODIFY ANYTHING IN THIS CELL THAT IS BELOW THIS LINE\n",
    "\"\"\"\n",
    "from urllib.request import urlretrieve\n",
    "from os.path import isfile, isdir\n",
    "from tqdm import tqdm\n",
    "import problem_unittests as tests\n",
    "import tarfile\n",
    "\n",
    "cifar10_dataset_folder_path = 'cifar-10-batches-py'\n",
    "\n",
    "class DLProgress(tqdm):\n",
    "    last_block = 0\n",
    "\n",
    "    def hook(self, block_num=1, block_size=1, total_size=None):\n",
    "        self.total = total_size\n",
    "        self.update((block_num - self.last_block) * block_size)\n",
    "        self.last_block = block_num\n",
    "\n",
    "if not isfile('cifar-10-python.tar.gz'):\n",
    "    with DLProgress(unit='B', unit_scale=True, miniters=1, desc='CIFAR-10 Dataset') as pbar:\n",
    "        urlretrieve(\n",
    "            'https://www.cs.toronto.edu/~kriz/cifar-10-python.tar.gz',\n",
    "            'cifar-10-python.tar.gz',\n",
    "            pbar.hook)\n",
    "\n",
    "if not isdir(cifar10_dataset_folder_path):\n",
    "    with tarfile.open('cifar-10-python.tar.gz') as tar:\n",
    "        tar.extractall()\n",
    "        tar.close()\n",
    "\n",
    "\n",
    "tests.test_folder_path(cifar10_dataset_folder_path)"
   ]
  },
  {
   "cell_type": "markdown",
   "metadata": {
    "deletable": true,
    "editable": true
   },
   "source": [
    "## Explore the Data\n",
    "The dataset is broken into batches to prevent your machine from running out of memory.  The CIFAR-10 dataset consists of 5 batches, named `data_batch_1`, `data_batch_2`, etc.. Each batch contains the labels and images that are one of the following:\n",
    "* airplane\n",
    "* automobile\n",
    "* bird\n",
    "* cat\n",
    "* deer\n",
    "* dog\n",
    "* frog\n",
    "* horse\n",
    "* ship\n",
    "* truck\n",
    "\n",
    "Understanding a dataset is part of making predictions on the data.  Play around with the code cell below by changing the `batch_id` and `sample_id`. The `batch_id` is the id for a batch (1-5). The `sample_id` is the id for a image and label pair in the batch.\n",
    "\n",
    "Ask yourself \"What are all possible labels?\", \"What is the range of values for the image data?\", \"Are the labels in order or random?\".  Answers to questions like these will help you preprocess the data and end up with better predictions."
   ]
  },
  {
   "cell_type": "code",
   "execution_count": 2,
   "metadata": {
    "collapsed": false,
    "deletable": true,
    "editable": true
   },
   "outputs": [
    {
     "name": "stdout",
     "output_type": "stream",
     "text": [
      "\n",
      "Stats of batch 1:\n",
      "Samples: 10000\n",
      "Label Counts: {0: 1005, 1: 974, 2: 1032, 3: 1016, 4: 999, 5: 937, 6: 1030, 7: 1001, 8: 1025, 9: 981}\n",
      "First 20 Labels: [6, 9, 9, 4, 1, 1, 2, 7, 8, 3, 4, 7, 7, 2, 9, 9, 9, 3, 2, 6]\n",
      "\n",
      "Example of Image 4:\n",
      "Image - Min Value: 0 Max Value: 254\n",
      "Image - Shape: (32, 32, 3)\n",
      "Label - Label Id: 1 Name: automobile\n"
     ]
    },
    {
     "data": {
      "image/png": "[encoded data removed]",
      "text/plain": [
       "<matplotlib.figure.Figure at 0x7f5a593ffac8>"
      ]
     },
     "metadata": {
      "image/png": {
       "height": 250,
       "width": 253
      }
     },
     "output_type": "display_data"
    }
   ],
   "source": [
    "%matplotlib inline\n",
    "%config InlineBackend.figure_format = 'retina'\n",
    "\n",
    "import helper\n",
    "import numpy as np\n",
    "\n",
    "# Explore the dataset\n",
    "batch_id = 1\n",
    "sample_id = 4\n",
    "helper.display_stats(cifar10_dataset_folder_path, batch_id, sample_id)"
   ]
  },
  {
   "cell_type": "markdown",
   "metadata": {
    "deletable": true,
    "editable": true
   },
   "source": [
    "## Implement Preprocess Functions\n",
    "### Normalize\n",
    "In the cell below, implement the `normalize` function to take in image data, `x`, and return it as a normalized Numpy array. The values should be in the range of 0 to 1, inclusive.  The return object should be the same shape as `x`."
   ]
  },
  {
   "cell_type": "code",
   "execution_count": 3,
   "metadata": {
    "collapsed": false,
    "deletable": true,
    "editable": true
   },
   "outputs": [
    {
     "name": "stdout",
     "output_type": "stream",
     "text": [
      "Tests Passed\n"
     ]
    }
   ],
   "source": [
    "def normalize(x):\n",
    "    \"\"\"\n",
    "    Normalize a list of sample image data in the range of 0 to 1\n",
    "    : x: List of image data.  The image shape is (32, 32, 3)\n",
    "    : return: Numpy array of normalize data\n",
    "    \"\"\"\n",
    "    x = x.astype('float32')\n",
    "    if (x.max() > 1.0 and x.min() >= 0):\n",
    "        x /= 255.0\n",
    "    return x\n",
    "\n",
    "\"\"\"\n",
    "DON'T MODIFY ANYTHING IN THIS CELL THAT IS BELOW THIS LINE\n",
    "\"\"\"\n",
    "tests.test_normalize(normalize)"
   ]
  },
  {
   "cell_type": "markdown",
   "metadata": {
    "deletable": true,
    "editable": true
   },
   "source": [
    "### One-hot encode\n",
    "Just like the previous code cell, you'll be implementing a function for preprocessing.  This time, you'll implement the `one_hot_encode` function. The input, `x`, are a list of labels.  Implement the function to return the list of labels as One-Hot encoded Numpy array.  The possible values for labels are 0 to 9. The one-hot encoding function should return the same encoding for each value between each call to `one_hot_encode`.  Make sure to save the map of encodings outside the function.\n",
    "\n",
    "Hint: Don't reinvent the wheel."
   ]
  },
  {
   "cell_type": "code",
   "execution_count": 4,
   "metadata": {
    "collapsed": false,
    "deletable": true,
    "editable": true
   },
   "outputs": [
    {
     "name": "stdout",
     "output_type": "stream",
     "text": [
      "Tests Passed\n"
     ]
    }
   ],
   "source": [
    "def one_hot_encode(x):\n",
    "    \"\"\"\n",
    "    One hot encode a list of sample labels. Return a one-hot encoded vector for each label.\n",
    "    : x: List of sample Labels\n",
    "    : return: Numpy array of one-hot encoded labels\n",
    "    \"\"\"\n",
    "    a = np.zeros((len(x), 10))\n",
    "    a[np.arange(len(x)), x] = 1\n",
    "    \n",
    "    return a\n",
    "\n",
    "\n",
    "\"\"\"\n",
    "DON'T MODIFY ANYTHING IN THIS CELL THAT IS BELOW THIS LINE\n",
    "\"\"\"\n",
    "tests.test_one_hot_encode(one_hot_encode)"
   ]
  },
  {
   "cell_type": "markdown",
   "metadata": {
    "deletable": true,
    "editable": true
   },
   "source": [
    "### Randomize Data\n",
    "As you saw from exploring the data above, the order of the samples are randomized.  It doesn't hurt to randomize it again, but you don't need to for this dataset."
   ]
  },
  {
   "cell_type": "markdown",
   "metadata": {
    "deletable": true,
    "editable": true
   },
   "source": [
    "## Preprocess all the data and save it\n",
    "Running the code cell below will preprocess all the CIFAR-10 data and save it to file. The code below also uses 10% of the training data for validation."
   ]
  },
  {
   "cell_type": "code",
   "execution_count": 111,
   "metadata": {
    "collapsed": false,
    "deletable": true,
    "editable": true
   },
   "outputs": [],
   "source": [
    "\"\"\"\n",
    "DON'T MODIFY ANYTHING IN THIS CELL\n",
    "\"\"\"\n",
    "# Preprocess Training, Validation, and Testing Data\n",
    "helper.preprocess_and_save_data(cifar10_dataset_folder_path, normalize, one_hot_encode)"
   ]
  },
  {
   "cell_type": "markdown",
   "metadata": {
    "deletable": true,
    "editable": true
   },
   "source": [
    "# Check Point\n",
    "This is your first checkpoint.  If you ever decide to come back to this notebook or have to restart the notebook, you can start from here.  The preprocessed data has been saved to disk."
   ]
  },
  {
   "cell_type": "code",
   "execution_count": 112,
   "metadata": {
    "collapsed": true,
    "deletable": true,
    "editable": true
   },
   "outputs": [],
   "source": [
    "\"\"\"\n",
    "DON'T MODIFY ANYTHING IN THIS CELL\n",
    "\"\"\"\n",
    "import pickle\n",
    "import problem_unittests as tests\n",
    "import helper\n",
    "\n",
    "# Load the Preprocessed Validation data\n",
    "valid_features, valid_labels = pickle.load(open('preprocess_validation.p', mode='rb'))"
   ]
  },
  {
   "cell_type": "markdown",
   "metadata": {
    "deletable": true,
    "editable": true
   },
   "source": [
    "## Build the network\n",
    "For the neural network, you'll build each layer into a function.  Most of the code you've seen has been outside of functions. To test your code more thoroughly, we require that you put each layer in a function.  This allows us to give you better feedback and test for simple mistakes using our unittests before you submit your project.\n",
    "\n",
    "If you're finding it hard to dedicate enough time for this course a week, we've provided a small shortcut to this part of the project. In the next couple of problems, you'll have the option to use [TensorFlow Layers](https://www.tensorflow.org/api_docs/python/tf/layers) or [TensorFlow Layers (contrib)](https://www.tensorflow.org/api_guides/python/contrib.layers) to build each layer, except \"Convolutional & Max Pooling\" layer.  TF Layers is similar to Keras's and TFLearn's abstraction to layers, so it's easy to pickup.\n",
    "\n",
    "If you would like to get the most of this course, try to solve all the problems without TF Layers.  Let's begin!\n",
    "### Input\n",
    "The neural network needs to read the image data, one-hot encoded labels, and dropout keep probability. Implement the following functions\n",
    "* Implement `neural_net_image_input`\n",
    " * Return a [TF Placeholder](https://www.tensorflow.org/api_docs/python/tf/placeholder)\n",
    " * Set the shape using `image_shape` with batch size set to `None`.\n",
    " * Name the TensorFlow placeholder \"x\" using the TensorFlow `name` parameter in the [TF Placeholder](https://www.tensorflow.org/api_docs/python/tf/placeholder).\n",
    "* Implement `neural_net_label_input`\n",
    " * Return a [TF Placeholder](https://www.tensorflow.org/api_docs/python/tf/placeholder)\n",
    " * Set the shape using `n_classes` with batch size set to `None`.\n",
    " * Name the TensorFlow placeholder \"y\" using the TensorFlow `name` parameter in the [TF Placeholder](https://www.tensorflow.org/api_docs/python/tf/placeholder).\n",
    "* Implement `neural_net_keep_prob_input`\n",
    " * Return a [TF Placeholder](https://www.tensorflow.org/api_docs/python/tf/placeholder) for dropout keep probability.\n",
    " * Name the TensorFlow placeholder \"keep_prob\" using the TensorFlow `name` parameter in the [TF Placeholder](https://www.tensorflow.org/api_docs/python/tf/placeholder).\n",
    "\n",
    "These names will be used at the end of the project to load your saved model.\n",
    "\n",
    "Note: `None` for shapes in TensorFlow allow for a dynamic size."
   ]
  },
  {
   "cell_type": "code",
   "execution_count": 113,
   "metadata": {
    "collapsed": false,
    "deletable": true,
    "editable": true
   },
   "outputs": [
    {
     "name": "stdout",
     "output_type": "stream",
     "text": [
      "Image Input Tests Passed.\n",
      "Label Input Tests Passed.\n",
      "Keep Prob Tests Passed.\n"
     ]
    }
   ],
   "source": [
    "import tensorflow as tf\n",
    "\n",
    "def neural_net_image_input(image_shape):\n",
    "    \"\"\"\n",
    "    Return a Tensor for a bach of image input\n",
    "    : image_shape: Shape of the images\n",
    "    : return: Tensor for image input.\n",
    "    \"\"\"\n",
    "    # TODO: Implement Function\n",
    "    return tf.placeholder(tf.float32, shape=(None, 32, 32, 3), name='x')\n",
    "\n",
    "\n",
    "def neural_net_label_input(n_classes):\n",
    "    \"\"\"\n",
    "    Return a Tensor for a batch of label input\n",
    "    : n_classes: Number of classes\n",
    "    : return: Tensor for label input.\n",
    "    \"\"\"\n",
    "    # TODO: Implement Function\n",
    "    return tf.placeholder(tf.float32, shape=(None, n_classes), name='y')\n",
    "\n",
    "\n",
    "def neural_net_keep_prob_input():\n",
    "    \"\"\"\n",
    "    Return a Tensor for keep probability\n",
    "    : return: Tensor for keep probability.\n",
    "    \"\"\"\n",
    "    # TODO: Implement Function \n",
    "    return tf.placeholder(tf.float32, name='keep_prob')\n",
    "\n",
    "\n",
    "\"\"\"\n",
    "DON'T MODIFY ANYTHING IN THIS CELL THAT IS BELOW THIS LINE\n",
    "\"\"\"\n",
    "tf.reset_default_graph()\n",
    "tests.test_nn_image_inputs(neural_net_image_input)\n",
    "tests.test_nn_label_inputs(neural_net_label_input)\n",
    "tests.test_nn_keep_prob_inputs(neural_net_keep_prob_input)"
   ]
  },
  {
   "cell_type": "markdown",
   "metadata": {
    "deletable": true,
    "editable": true
   },
   "source": [
    "### Convolution and Max Pooling Layer\n",
    "Convolution layers have a lot of success with images. For this code cell, you should implement the function `conv2d_maxpool` to apply convolution then max pooling:\n",
    "* Create the weight and bias using `conv_ksize`, `conv_num_outputs` and the shape of `x_tensor`.\n",
    "* Apply a convolution to `x_tensor` using weight and `conv_strides`.\n",
    " * We recommend you use same padding, but you're welcome to use any padding.\n",
    "* Add bias\n",
    "* Add a nonlinear activation to the convolution.\n",
    "* Apply Max Pooling using `pool_ksize` and `pool_strides`.\n",
    " * We recommend you use same padding, but you're welcome to use any padding.\n",
    "\n",
    "Note: You **can't** use [TensorFlow Layers](https://www.tensorflow.org/api_docs/python/tf/layers) or [TensorFlow Layers (contrib)](https://www.tensorflow.org/api_guides/python/contrib.layers) for this layer.  You're free to use any TensorFlow package for all the other layers."
   ]
  },
  {
   "cell_type": "code",
   "execution_count": 114,
   "metadata": {
    "collapsed": false,
    "deletable": true,
    "editable": true
   },
   "outputs": [
    {
     "name": "stdout",
     "output_type": "stream",
     "text": [
      "Tests Passed\n"
     ]
    }
   ],
   "source": [
    "def conv2d_maxpool(x_tensor, conv_num_outputs, conv_ksize, conv_strides, pool_ksize, pool_strides):\n",
    "    \"\"\"\n",
    "    Apply convolution then max pooling to x_tensor\n",
    "    :param x_tensor: TensorFlow Tensor\n",
    "    :param conv_num_outputs: Number of outputs for the convolutional layer\n",
    "    :param conv_strides: Stride 2-D Tuple for convolution\n",
    "    :param pool_ksize: kernal size 2-D Tuple for pool\n",
    "    :param pool_strides: Stride 2-D Tuple for pool\n",
    "    : return: A tensor that represents convolution and max pooling of x_tensor\n",
    "    \"\"\"\n",
    "    shape = x_tensor.get_shape().as_list();\n",
    "    W = tf.Variable(tf.truncated_normal((conv_ksize[0], conv_ksize[1], shape[3], conv_num_outputs), stddev=0.1), name=\"weights\")\n",
    "    b = tf.Variable(tf.zeros([conv_num_outputs]), name=\"bias\")\n",
    "    x = tf.nn.conv2d(x_tensor, W, strides=[1, conv_strides[0], conv_strides[1], 1], padding='SAME')\n",
    "    conv_layer = tf.nn.relu(tf.nn.bias_add(x, b))\n",
    "     \n",
    "    return tf.nn.max_pool(conv_layer, \n",
    "                          ksize=[1, pool_ksize[0], pool_ksize[1], 1], \n",
    "                          strides=[1, pool_strides[0], pool_strides[1], 1], \n",
    "                          padding='VALID')\n",
    "    \n",
    "tests.test_con_pool(conv2d_maxpool)"
   ]
  },
  {
   "cell_type": "markdown",
   "metadata": {
    "deletable": true,
    "editable": true
   },
   "source": [
    "### Convolution and Max Pooling Layer\n",
    "\n",
    "Adding a pure conv layer. E.g: AlexNet use three conv layer stack on top of each other."
   ]
  },
  {
   "cell_type": "code",
   "execution_count": 115,
   "metadata": {
    "collapsed": false,
    "deletable": true,
    "editable": true
   },
   "outputs": [
    {
     "name": "stdout",
     "output_type": "stream",
     "text": [
      "Tests Passed\n"
     ]
    }
   ],
   "source": [
    "def conv2d(x_tensor, conv_num_outputs, conv_ksize, conv_strides):\n",
    "    \"\"\"\n",
    "    Apply convolution  to x_tensor\n",
    "    :param x_tensor: TensorFlow Tensor\n",
    "    :param conv_num_outputs: Number of outputs for the convolutional layer\n",
    "    :param conv_strides: Stride 2-D Tuple for convolution\n",
    "    :param pool_ksize: kernal size 2-D Tuple for pool\n",
    "    :param pool_strides: Stride 2-D Tuple for pool\n",
    "    : return: A tensor that represents convolution and max pooling of x_tensor\n",
    "    \"\"\"\n",
    "    shape = x_tensor.get_shape().as_list();\n",
    "    W = tf.Variable(tf.truncated_normal((conv_ksize[0], conv_ksize[1], shape[3], conv_num_outputs), stddev=0.1), name=\"weights\")\n",
    "    b = tf.Variable(tf.zeros([conv_num_outputs]), name=\"bias\")\n",
    "    x = tf.nn.conv2d(x_tensor, W, strides=[1, conv_strides[0], conv_strides[1], 1], padding='SAME')\n",
    "    return tf.nn.relu(tf.nn.bias_add(x, b))\n",
    "    \n",
    "tests.test_con_pool(conv2d_maxpool)"
   ]
  },
  {
   "cell_type": "markdown",
   "metadata": {
    "deletable": true,
    "editable": true
   },
   "source": [
    "### Flatten Layer\n",
    "Implement the `flatten` function to change the dimension of `x_tensor` from a 4-D tensor to a 2-D tensor.  The output should be the shape (*Batch Size*, *Flattened Image Size*). You can use [TensorFlow Layers](https://www.tensorflow.org/api_docs/python/tf/layers) or [TensorFlow Layers (contrib)](https://www.tensorflow.org/api_guides/python/contrib.layers) for this layer."
   ]
  },
  {
   "cell_type": "code",
   "execution_count": 116,
   "metadata": {
    "collapsed": false,
    "deletable": true,
    "editable": true
   },
   "outputs": [
    {
     "name": "stdout",
     "output_type": "stream",
     "text": [
      "Tests Passed\n"
     ]
    }
   ],
   "source": [
    "def flatten(x_tensor):\n",
    "    \"\"\"\n",
    "    Flatten x_tensor to (Batch Size, Flattened Image Size)\n",
    "    : x_tensor: A tensor of size (Batch Size, ...), where ... are the image dimensions.\n",
    "    : return: A tensor of size (Batch Size, Flattened Image Size).\n",
    "    \"\"\"\n",
    "    shape = x_tensor.get_shape().as_list();\n",
    "    dim = int(shape[1] * shape[2] * shape[3])\n",
    "    return tf.reshape(x_tensor, [-1, dim])\n",
    "\n",
    "\"\"\"\n",
    "DON'T MODIFY ANYTHING IN THIS CELL THAT IS BELOW THIS LINE\n",
    "\"\"\"\n",
    "tests.test_flatten(flatten)"
   ]
  },
  {
   "cell_type": "markdown",
   "metadata": {
    "deletable": true,
    "editable": true
   },
   "source": [
    "### Fully-Connected Layer\n",
    "Implement the `fully_conn` function to apply a fully connected layer to `x_tensor` with the shape (*Batch Size*, *num_outputs*). You can use [TensorFlow Layers](https://www.tensorflow.org/api_docs/python/tf/layers) or [TensorFlow Layers (contrib)](https://www.tensorflow.org/api_guides/python/contrib.layers) for this layer."
   ]
  },
  {
   "cell_type": "code",
   "execution_count": 117,
   "metadata": {
    "collapsed": false,
    "deletable": true,
    "editable": true
   },
   "outputs": [
    {
     "name": "stdout",
     "output_type": "stream",
     "text": [
      "Tests Passed\n"
     ]
    }
   ],
   "source": [
    "def fully_conn(x_tensor, num_outputs):\n",
    "    \"\"\"\n",
    "    Apply a fully connected layer to x_tensor using weight and bias\n",
    "    : x_tensor: A 2-D tensor where the first dimension is batch size.\n",
    "    : num_outputs: The number of output that the new tensor should be.\n",
    "    : return: A 2-D tensor where the second dimension is num_outputs.\n",
    "    \"\"\"\n",
    "    # TODO: Implement Function\n",
    "    shape    = x_tensor.get_shape().as_list();\n",
    "    datasize = shape[1]\n",
    "    W = tf.Variable(tf.truncated_normal([shape[1], num_outputs], stddev=0.1), name=\"fully_connected_weights\")\n",
    "    b = tf.Variable(tf.zeros(num_outputs), name=\"fully_connected_bias\")\n",
    "    return tf.nn.relu(tf.nn.bias_add(tf.matmul(x_tensor, W), b))\n",
    "\n",
    "\n",
    "\"\"\"\n",
    "DON'T MODIFY ANYTHING IN THIS CELL THAT IS BELOW THIS LINE\n",
    "\"\"\"\n",
    "tests.test_fully_conn(fully_conn)"
   ]
  },
  {
   "cell_type": "markdown",
   "metadata": {
    "deletable": true,
    "editable": true
   },
   "source": [
    "### Output Layer\n",
    "Implement the `output` function to apply a fully connected layer to `x_tensor` with the shape (*Batch Size*, *num_outputs*). You can use [TensorFlow Layers](https://www.tensorflow.org/api_docs/python/tf/layers) or [TensorFlow Layers (contrib)](https://www.tensorflow.org/api_guides/python/contrib.layers) for this layer.\n",
    "\n",
    "Note: Activation, softmax, or cross entropy shouldn't be applied to this."
   ]
  },
  {
   "cell_type": "code",
   "execution_count": 118,
   "metadata": {
    "collapsed": false,
    "deletable": true,
    "editable": true
   },
   "outputs": [
    {
     "name": "stdout",
     "output_type": "stream",
     "text": [
      "Tests Passed\n"
     ]
    }
   ],
   "source": [
    "def output(x_tensor, num_outputs):\n",
    "    \"\"\"\n",
    "    Apply a output layer to x_tensor using weight and bias\n",
    "    : x_tensor: A 2-D tensor where the first dimension is batch size.\n",
    "    : num_outputs: The number of output that the new tensor should be.\n",
    "    : return: A 2-D tensor where the second dimension is num_outputs.\n",
    "    \"\"\"\n",
    "    shape    = x_tensor.get_shape().as_list();\n",
    "    datasize = shape[1]\n",
    "    W = tf.Variable(tf.truncated_normal([shape[1], num_outputs], stddev=0.1), name=\"fully_connected_weights\")\n",
    "    b = tf.Variable(tf.zeros(num_outputs), name=\"fully_connected_bias\")\n",
    "    return tf.nn.relu(tf.nn.bias_add(tf.matmul(x_tensor, W), b))\n",
    "\n",
    "\n",
    "\"\"\"\n",
    "DON'T MODIFY ANYTHING IN THIS CELL THAT IS BELOW THIS LINE\n",
    "\"\"\"\n",
    "tests.test_output(output)"
   ]
  },
  {
   "cell_type": "markdown",
   "metadata": {
    "deletable": true,
    "editable": true
   },
   "source": [
    "### Create Convolutional Model\n",
    "Implement the function `conv_net` to create a convolutional neural network model. The function takes in a batch of images, `x`, and outputs logits.  Use the layers you created above to create this model:\n",
    "\n",
    "* Apply 1, 2, or 3 Convolution and Max Pool layers\n",
    "* Apply a Flatten Layer\n",
    "* Apply 1, 2, or 3 Fully Connected Layers\n",
    "* Apply an Output Layer\n",
    "* Return the output\n",
    "* Apply [TensorFlow's Dropout](https://www.tensorflow.org/api_docs/python/tf/nn/dropout) to one or more layers in the model using `keep_prob`. "
   ]
  },
  {
   "cell_type": "code",
   "execution_count": 143,
   "metadata": {
    "collapsed": false,
    "deletable": true,
    "editable": true
   },
   "outputs": [
    {
     "name": "stdout",
     "output_type": "stream",
     "text": [
      "Neural Network Built!\n"
     ]
    }
   ],
   "source": [
    "def conv_net(x, keep_prob):\n",
    "    \"\"\"\n",
    "    Create a convolutional neural network model\n",
    "    : x: Placeholder tensor that holds image data.\n",
    "    : keep_prob: Placeholder tensor that hold dropout keep probability.\n",
    "    : return: Tensor that represents logits\n",
    "    \"\"\"\n",
    "    # Apply 1, 2, or 3 Convolution and Max Pool layers\n",
    "    model = x\n",
    "    conv_num_outputs = 40\n",
    "    conv_ksize = (3,3)\n",
    "    conv_strides = (1,1)\n",
    "    pool_ksize = (2,2)\n",
    "    pool_strides = (1,1)\n",
    "    model = conv2d_maxpool(model, conv_num_outputs, conv_ksize, conv_strides, pool_ksize, pool_strides)\n",
    "    model = tf.nn.local_response_normalization(model)\n",
    "    \n",
    "    conv_num_outputs = 80\n",
    "    conv_ksize = (3,3)\n",
    "    conv_strides = (1,1)\n",
    "    pool_ksize = (2,2)\n",
    "    pool_strides = (1,1)\n",
    "    model = conv2d_maxpool(model, conv_num_outputs, conv_ksize, conv_strides, pool_ksize, pool_strides)\n",
    "    \n",
    "    # TODO: Apply a Flatten Layer\n",
    "    model = flatten(model)\n",
    "    \n",
    "    model = fully_conn(model, 256)\n",
    "    model = tf.nn.dropout(model, keep_prob)\n",
    "    \n",
    "    model = fully_conn(model, 32)\n",
    "    \n",
    "    num_outputs = 10\n",
    "    out_data = output(model, num_outputs)\n",
    "\n",
    "    return out_data\n",
    "\n",
    "\n",
    "\"\"\"\n",
    "DON'T MODIFY ANYTHING IN THIS CELL THAT IS BELOW THIS LINE\n",
    "\"\"\"\n",
    "\n",
    "##############################\n",
    "## Build the Neural Network ##\n",
    "##############################\n",
    "\n",
    "# Remove previous weights, bias, inputs, etc..\n",
    "tf.reset_default_graph()\n",
    "\n",
    "# Inputs\n",
    "x = neural_net_image_input((32, 32, 3))\n",
    "y = neural_net_label_input(10)\n",
    "keep_prob = neural_net_keep_prob_input()\n",
    "\n",
    "# Model\n",
    "logits = conv_net(x, keep_prob)\n",
    "\n",
    "# Name logits Tensor, so that is can be loaded from disk after training\n",
    "logits = tf.identity(logits, name='logits')\n",
    "\n",
    "# Loss and Optimizer\n",
    "cost = tf.reduce_mean(tf.nn.softmax_cross_entropy_with_logits(logits=logits, labels=y))\n",
    "optimizer = tf.train.AdamOptimizer().minimize(cost)\n",
    "\n",
    "# Accuracy\n",
    "correct_pred = tf.equal(tf.argmax(logits, 1), tf.argmax(y, 1))\n",
    "accuracy = tf.reduce_mean(tf.cast(correct_pred, tf.float32), name='accuracy')\n",
    "\n",
    "tests.test_conv_net(conv_net)"
   ]
  },
  {
   "cell_type": "markdown",
   "metadata": {
    "deletable": true,
    "editable": true
   },
   "source": [
    "## Train the Neural Network\n",
    "### Single Optimization\n",
    "Implement the function `train_neural_network` to do a single optimization.  The optimization should use `optimizer` to optimize in `session` with a `feed_dict` of the following:\n",
    "* `x` for image input\n",
    "* `y` for labels\n",
    "* `keep_prob` for keep probability for dropout\n",
    "\n",
    "This function will be called for each batch, so `tf.global_variables_initializer()` has already been called.\n",
    "\n",
    "Note: Nothing needs to be returned. This function is only optimizing the neural network."
   ]
  },
  {
   "cell_type": "code",
   "execution_count": 121,
   "metadata": {
    "collapsed": false,
    "deletable": true,
    "editable": true
   },
   "outputs": [
    {
     "name": "stdout",
     "output_type": "stream",
     "text": [
      "Tests Passed\n"
     ]
    }
   ],
   "source": [
    "def train_neural_network(session, optimizer, keep_probability, feature_batch, label_batch):\n",
    "    \"\"\"\n",
    "    Optimize the session on a batch of images and labels\n",
    "    : session: Current TensorFlow session\n",
    "    : optimizer: TensorFlow optimizer function\n",
    "    : keep_probability: keep probability\n",
    "    : feature_batch: Batch of Numpy image data\n",
    "    : label_batch: Batch of Numpy label data\n",
    "    \"\"\"\n",
    "    return session.run(optimizer, feed_dict={\n",
    "        x: feature_batch,\n",
    "        y: label_batch,\n",
    "        keep_prob: keep_probability\n",
    "    })\n",
    "\n",
    "\n",
    "\"\"\"\n",
    "DON'T MODIFY ANYTHING IN THIS CELL THAT IS BELOW THIS LINE\n",
    "\"\"\"\n",
    "tests.test_train_nn(train_neural_network)"
   ]
  },
  {
   "cell_type": "markdown",
   "metadata": {
    "deletable": true,
    "editable": true
   },
   "source": [
    "### Show Stats\n",
    "Implement the function `print_stats` to print loss and validation accuracy.  Use the global variables `valid_features` and `valid_labels` to calculate validation accuracy.  Use a keep probability of `1.0` to calculate the loss and validation accuracy."
   ]
  },
  {
   "cell_type": "code",
   "execution_count": 122,
   "metadata": {
    "collapsed": false,
    "deletable": true,
    "editable": true
   },
   "outputs": [],
   "source": [
    "def print_stats(session, feature_batch, label_batch, cost, accuracy):\n",
    "    \"\"\"\n",
    "    Print information about loss and validation accuracy\n",
    "    : session: Current TensorFlow session\n",
    "    : feature_batch: Batch of Numpy image data\n",
    "    : label_batch: Batch of Numpy label data\n",
    "    : cost: TensorFlow cost function\n",
    "    : accuracy: TensorFlow accuracy function\n",
    "    \"\"\"\n",
    "    loss = session.run(cost,\n",
    "                       feed_dict={\n",
    "                           x: feature_batch,\n",
    "                           y: label_batch,\n",
    "                           keep_prob: 1.0})\n",
    "\n",
    "    acc = session.run(accuracy,\n",
    "                            feed_dict={\n",
    "                                x: valid_features,\n",
    "                                y: valid_labels,\n",
    "                                keep_prob: 1.0})\n",
    "\n",
    "    print('Loss: {:>10.4f} Accuracy: {:.6f}'.format(\n",
    "                loss,\n",
    "                acc))"
   ]
  },
  {
   "cell_type": "markdown",
   "metadata": {
    "deletable": true,
    "editable": true
   },
   "source": [
    "### Hyperparameters\n",
    "Tune the following parameters:\n",
    "* Set `epochs` to the number of iterations until the network stops learning or start overfitting\n",
    "* Set `batch_size` to the highest number that your machine has memory for.  Most people set them to common sizes of memory:\n",
    " * 64\n",
    " * 128\n",
    " * 256\n",
    " * ...\n",
    "* Set `keep_probability` to the probability of keeping a node using dropout"
   ]
  },
  {
   "cell_type": "code",
   "execution_count": 135,
   "metadata": {
    "collapsed": true,
    "deletable": true,
    "editable": true
   },
   "outputs": [],
   "source": [
    "# TODO: Tune Parameters\n",
    "epochs = 50\n",
    "batch_size = 512\n",
    "keep_probability = 0.5"
   ]
  },
  {
   "cell_type": "markdown",
   "metadata": {
    "deletable": true,
    "editable": true
   },
   "source": [
    "### Train on a Single CIFAR-10 Batch\n",
    "Instead of training the neural network on all the CIFAR-10 batches of data, let's use a single batch. This should save time while you iterate on the model to get a better accuracy.  Once the final validation accuracy is 50% or greater, run the model on all the data in the next section."
   ]
  },
  {
   "cell_type": "code",
   "execution_count": 144,
   "metadata": {
    "collapsed": false,
    "deletable": true,
    "editable": true
   },
   "outputs": [
    {
     "name": "stdout",
     "output_type": "stream",
     "text": [
      "Checking the Training on a Single Batch...\n",
      "Epoch  1, CIFAR-10 Batch 1:  Loss:     2.2927 Accuracy: 0.108000\n",
      "Epoch  2, CIFAR-10 Batch 1:  Loss:     2.1826 Accuracy: 0.169000\n",
      "Epoch  3, CIFAR-10 Batch 1:  Loss:     1.9661 Accuracy: 0.300000\n",
      "Epoch  4, CIFAR-10 Batch 1:  Loss:     1.8063 Accuracy: 0.361000\n",
      "Epoch  5, CIFAR-10 Batch 1:  Loss:     1.6845 Accuracy: 0.410600\n",
      "Epoch  6, CIFAR-10 Batch 1:  Loss:     1.5178 Accuracy: 0.447600\n",
      "Epoch  7, CIFAR-10 Batch 1:  Loss:     1.3742 Accuracy: 0.484600\n",
      "Epoch  8, CIFAR-10 Batch 1:  Loss:     1.2656 Accuracy: 0.501600\n",
      "Epoch  9, CIFAR-10 Batch 1:  Loss:     1.1553 Accuracy: 0.518400\n",
      "Epoch 10, CIFAR-10 Batch 1:  Loss:     1.0406 Accuracy: 0.531800\n",
      "Epoch 11, CIFAR-10 Batch 1:  Loss:     0.9432 Accuracy: 0.549800\n",
      "Epoch 12, CIFAR-10 Batch 1:  Loss:     0.8556 Accuracy: 0.561200\n",
      "Epoch 13, CIFAR-10 Batch 1:  Loss:     0.7708 Accuracy: 0.565400\n",
      "Epoch 14, CIFAR-10 Batch 1:  Loss:     0.6782 Accuracy: 0.578000\n",
      "Epoch 15, CIFAR-10 Batch 1:  Loss:     0.6140 Accuracy: 0.581200\n",
      "Epoch 16, CIFAR-10 Batch 1:  Loss:     0.5810 Accuracy: 0.577400\n",
      "Epoch 17, CIFAR-10 Batch 1:  Loss:     0.5181 Accuracy: 0.589200\n",
      "Epoch 18, CIFAR-10 Batch 1:  Loss:     0.4769 Accuracy: 0.589000\n",
      "Epoch 19, CIFAR-10 Batch 1:  Loss:     0.3893 Accuracy: 0.600000\n",
      "Epoch 20, CIFAR-10 Batch 1:  Loss:     0.3615 Accuracy: 0.597800\n",
      "Epoch 21, CIFAR-10 Batch 1:  Loss:     0.3184 Accuracy: 0.612200\n",
      "Epoch 22, CIFAR-10 Batch 1:  Loss:     0.2775 Accuracy: 0.605000\n",
      "Epoch 23, CIFAR-10 Batch 1:  Loss:     0.2509 Accuracy: 0.608400\n",
      "Epoch 24, CIFAR-10 Batch 1:  Loss:     0.2203 Accuracy: 0.608000\n",
      "Epoch 25, CIFAR-10 Batch 1:  Loss:     0.2419 Accuracy: 0.583000\n",
      "Epoch 26, CIFAR-10 Batch 1:  Loss:     0.2074 Accuracy: 0.592800\n",
      "Epoch 27, CIFAR-10 Batch 1:  Loss:     0.2124 Accuracy: 0.599200\n",
      "Epoch 28, CIFAR-10 Batch 1:  Loss:     0.1896 Accuracy: 0.599600\n",
      "Epoch 29, CIFAR-10 Batch 1:  Loss:     0.1498 Accuracy: 0.607000\n",
      "Epoch 30, CIFAR-10 Batch 1:  Loss:     0.1095 Accuracy: 0.621800\n",
      "Epoch 31, CIFAR-10 Batch 1:  Loss:     0.0987 Accuracy: 0.624200\n",
      "Epoch 32, CIFAR-10 Batch 1:  Loss:     0.0771 Accuracy: 0.621000\n",
      "Epoch 33, CIFAR-10 Batch 1:  Loss:     0.0770 Accuracy: 0.617000\n",
      "Epoch 34, CIFAR-10 Batch 1:  Loss:     0.0587 Accuracy: 0.619800\n",
      "Epoch 35, CIFAR-10 Batch 1:  Loss:     0.0495 Accuracy: 0.626400\n",
      "Epoch 36, CIFAR-10 Batch 1:  Loss:     0.0385 Accuracy: 0.618200\n",
      "Epoch 37, CIFAR-10 Batch 1:  Loss:     0.0384 Accuracy: 0.613000\n",
      "Epoch 38, CIFAR-10 Batch 1:  Loss:     0.0275 Accuracy: 0.619200\n",
      "Epoch 39, CIFAR-10 Batch 1:  Loss:     0.0270 Accuracy: 0.616800\n",
      "Epoch 40, CIFAR-10 Batch 1:  Loss:     0.0387 Accuracy: 0.610600\n",
      "Epoch 41, CIFAR-10 Batch 1:  Loss:     0.0242 Accuracy: 0.617200\n",
      "Epoch 42, CIFAR-10 Batch 1:  Loss:     0.0191 Accuracy: 0.621800\n",
      "Epoch 43, CIFAR-10 Batch 1:  Loss:     0.0228 Accuracy: 0.601600\n",
      "Epoch 44, CIFAR-10 Batch 1:  Loss:     0.0222 Accuracy: 0.617400\n",
      "Epoch 45, CIFAR-10 Batch 1:  Loss:     0.0189 Accuracy: 0.611200\n",
      "Epoch 46, CIFAR-10 Batch 1:  Loss:     0.0138 Accuracy: 0.613600\n",
      "Epoch 47, CIFAR-10 Batch 1:  Loss:     0.0104 Accuracy: 0.620200\n",
      "Epoch 48, CIFAR-10 Batch 1:  Loss:     0.0212 Accuracy: 0.606800\n",
      "Epoch 49, CIFAR-10 Batch 1:  Loss:     0.0163 Accuracy: 0.604000\n",
      "Epoch 50, CIFAR-10 Batch 1:  Loss:     0.0112 Accuracy: 0.609200\n"
     ]
    }
   ],
   "source": [
    "\"\"\"\n",
    "DON'T MODIFY ANYTHING IN THIS CELL\n",
    "\"\"\"\n",
    "print('Checking the Training on a Single Batch...')\n",
    "with tf.Session() as sess:\n",
    "    # Initializing the variables\n",
    "    sess.run(tf.global_variables_initializer())\n",
    "    # Training cycle\n",
    "    for epoch in range(epochs):\n",
    "        batch_i = 1\n",
    "        for batch_features, batch_labels in helper.load_preprocess_training_batch(batch_i, batch_size):\n",
    "            train_neural_network(sess, optimizer, keep_probability, batch_features, batch_labels)\n",
    "        print('Epoch {:>2}, CIFAR-10 Batch {}:  '.format(epoch + 1, batch_i), end='')\n",
    "        print_stats(sess, batch_features, batch_labels, cost, accuracy)"
   ]
  },
  {
   "cell_type": "markdown",
   "metadata": {
    "deletable": true,
    "editable": true
   },
   "source": [
    "### Fully Train the Model\n",
    "Now that you got a good accuracy with a single CIFAR-10 batch, try it with all five batches."
   ]
  },
  {
   "cell_type": "code",
   "execution_count": 145,
   "metadata": {
    "collapsed": false,
    "deletable": true,
    "editable": true
   },
   "outputs": [
    {
     "name": "stdout",
     "output_type": "stream",
     "text": [
      "Training...\n",
      "Epoch  1, CIFAR-10 Batch 1:  Loss:     2.2993 Accuracy: 0.117400\n",
      "Epoch  1, CIFAR-10 Batch 2:  Loss:     2.2094 Accuracy: 0.194000\n",
      "Epoch  1, CIFAR-10 Batch 3:  Loss:     2.0252 Accuracy: 0.288200\n",
      "Epoch  1, CIFAR-10 Batch 4:  Loss:     1.9137 Accuracy: 0.339200\n",
      "Epoch  1, CIFAR-10 Batch 5:  Loss:     1.7231 Accuracy: 0.408600\n",
      "Epoch  2, CIFAR-10 Batch 1:  Loss:     1.6464 Accuracy: 0.454400\n",
      "Epoch  2, CIFAR-10 Batch 2:  Loss:     1.4126 Accuracy: 0.480800\n",
      "Epoch  2, CIFAR-10 Batch 3:  Loss:     1.2257 Accuracy: 0.523600\n",
      "Epoch  2, CIFAR-10 Batch 4:  Loss:     1.1841 Accuracy: 0.526000\n",
      "Epoch  2, CIFAR-10 Batch 5:  Loss:     1.1564 Accuracy: 0.551200\n",
      "Epoch  3, CIFAR-10 Batch 1:  Loss:     1.2904 Accuracy: 0.534200\n",
      "Epoch  3, CIFAR-10 Batch 2:  Loss:     1.1332 Accuracy: 0.545000\n",
      "Epoch  3, CIFAR-10 Batch 3:  Loss:     0.9668 Accuracy: 0.579000\n",
      "Epoch  3, CIFAR-10 Batch 4:  Loss:     0.9796 Accuracy: 0.589400\n",
      "Epoch  3, CIFAR-10 Batch 5:  Loss:     0.9768 Accuracy: 0.591800\n",
      "Epoch  4, CIFAR-10 Batch 1:  Loss:     1.0564 Accuracy: 0.601200\n",
      "Epoch  4, CIFAR-10 Batch 2:  Loss:     0.9544 Accuracy: 0.591400\n",
      "Epoch  4, CIFAR-10 Batch 3:  Loss:     0.8454 Accuracy: 0.604600\n",
      "Epoch  4, CIFAR-10 Batch 4:  Loss:     0.8370 Accuracy: 0.625400\n",
      "Epoch  4, CIFAR-10 Batch 5:  Loss:     0.8051 Accuracy: 0.629400\n",
      "Epoch  5, CIFAR-10 Batch 1:  Loss:     0.9350 Accuracy: 0.622000\n",
      "Epoch  5, CIFAR-10 Batch 2:  Loss:     0.8445 Accuracy: 0.614600\n",
      "Epoch  5, CIFAR-10 Batch 3:  Loss:     0.7221 Accuracy: 0.633800\n",
      "Epoch  5, CIFAR-10 Batch 4:  Loss:     0.7245 Accuracy: 0.645400\n",
      "Epoch  5, CIFAR-10 Batch 5:  Loss:     0.7003 Accuracy: 0.648600\n",
      "Epoch  6, CIFAR-10 Batch 1:  Loss:     0.8056 Accuracy: 0.650400\n",
      "Epoch  6, CIFAR-10 Batch 2:  Loss:     0.7573 Accuracy: 0.635400\n",
      "Epoch  6, CIFAR-10 Batch 3:  Loss:     0.6505 Accuracy: 0.662600\n",
      "Epoch  6, CIFAR-10 Batch 4:  Loss:     0.6387 Accuracy: 0.660600\n",
      "Epoch  6, CIFAR-10 Batch 5:  Loss:     0.6219 Accuracy: 0.663000\n",
      "Epoch  7, CIFAR-10 Batch 1:  Loss:     0.6772 Accuracy: 0.668600\n",
      "Epoch  7, CIFAR-10 Batch 2:  Loss:     0.6338 Accuracy: 0.651400\n",
      "Epoch  7, CIFAR-10 Batch 3:  Loss:     0.5518 Accuracy: 0.671800\n",
      "Epoch  7, CIFAR-10 Batch 4:  Loss:     0.5571 Accuracy: 0.672000\n",
      "Epoch  7, CIFAR-10 Batch 5:  Loss:     0.5290 Accuracy: 0.674800\n",
      "Epoch  8, CIFAR-10 Batch 1:  Loss:     0.5892 Accuracy: 0.674400\n",
      "Epoch  8, CIFAR-10 Batch 2:  Loss:     0.5258 Accuracy: 0.679000\n",
      "Epoch  8, CIFAR-10 Batch 3:  Loss:     0.4910 Accuracy: 0.683600\n",
      "Epoch  8, CIFAR-10 Batch 4:  Loss:     0.5032 Accuracy: 0.675000\n",
      "Epoch  8, CIFAR-10 Batch 5:  Loss:     0.4580 Accuracy: 0.677400\n",
      "Epoch  9, CIFAR-10 Batch 1:  Loss:     0.5513 Accuracy: 0.672600\n",
      "Epoch  9, CIFAR-10 Batch 2:  Loss:     0.4714 Accuracy: 0.682000\n",
      "Epoch  9, CIFAR-10 Batch 3:  Loss:     0.4281 Accuracy: 0.689600\n",
      "Epoch  9, CIFAR-10 Batch 4:  Loss:     0.4286 Accuracy: 0.682600\n",
      "Epoch  9, CIFAR-10 Batch 5:  Loss:     0.4107 Accuracy: 0.681200\n",
      "Epoch 10, CIFAR-10 Batch 1:  Loss:     0.4754 Accuracy: 0.660200\n",
      "Epoch 10, CIFAR-10 Batch 2:  Loss:     0.4168 Accuracy: 0.686600\n",
      "Epoch 10, CIFAR-10 Batch 3:  Loss:     0.3983 Accuracy: 0.677800\n",
      "Epoch 10, CIFAR-10 Batch 4:  Loss:     0.3824 Accuracy: 0.677600\n",
      "Epoch 10, CIFAR-10 Batch 5:  Loss:     0.3550 Accuracy: 0.687400\n",
      "Epoch 11, CIFAR-10 Batch 1:  Loss:     0.4213 Accuracy: 0.664200\n",
      "Epoch 11, CIFAR-10 Batch 2:  Loss:     0.3515 Accuracy: 0.702200\n",
      "Epoch 11, CIFAR-10 Batch 3:  Loss:     0.3428 Accuracy: 0.686400\n",
      "Epoch 11, CIFAR-10 Batch 4:  Loss:     0.3284 Accuracy: 0.684000\n",
      "Epoch 11, CIFAR-10 Batch 5:  Loss:     0.3317 Accuracy: 0.675000\n",
      "Epoch 12, CIFAR-10 Batch 1:  Loss:     0.3492 Accuracy: 0.675800\n",
      "Epoch 12, CIFAR-10 Batch 2:  Loss:     0.3625 Accuracy: 0.688000\n",
      "Epoch 12, CIFAR-10 Batch 3:  Loss:     0.2902 Accuracy: 0.679200\n",
      "Epoch 12, CIFAR-10 Batch 4:  Loss:     0.2708 Accuracy: 0.693600\n",
      "Epoch 12, CIFAR-10 Batch 5:  Loss:     0.2604 Accuracy: 0.689400\n",
      "Epoch 13, CIFAR-10 Batch 1:  Loss:     0.2883 Accuracy: 0.679400\n",
      "Epoch 13, CIFAR-10 Batch 2:  Loss:     0.3143 Accuracy: 0.681600\n",
      "Epoch 13, CIFAR-10 Batch 3:  Loss:     0.2749 Accuracy: 0.685800\n",
      "Epoch 13, CIFAR-10 Batch 4:  Loss:     0.2636 Accuracy: 0.674000\n",
      "Epoch 13, CIFAR-10 Batch 5:  Loss:     0.2153 Accuracy: 0.687400\n",
      "Epoch 14, CIFAR-10 Batch 1:  Loss:     0.2570 Accuracy: 0.698800\n",
      "Epoch 14, CIFAR-10 Batch 2:  Loss:     0.2315 Accuracy: 0.694000\n",
      "Epoch 14, CIFAR-10 Batch 3:  Loss:     0.1812 Accuracy: 0.694800\n",
      "Epoch 14, CIFAR-10 Batch 4:  Loss:     0.2391 Accuracy: 0.669200\n",
      "Epoch 14, CIFAR-10 Batch 5:  Loss:     0.1849 Accuracy: 0.695600\n",
      "Epoch 15, CIFAR-10 Batch 1:  Loss:     0.2025 Accuracy: 0.692800\n",
      "Epoch 15, CIFAR-10 Batch 2:  Loss:     0.1994 Accuracy: 0.692800\n",
      "Epoch 15, CIFAR-10 Batch 3:  Loss:     0.1577 Accuracy: 0.701000\n",
      "Epoch 15, CIFAR-10 Batch 4:  Loss:     0.1617 Accuracy: 0.694800\n",
      "Epoch 15, CIFAR-10 Batch 5:  Loss:     0.1747 Accuracy: 0.678400\n",
      "Epoch 16, CIFAR-10 Batch 1:  Loss:     0.1552 Accuracy: 0.695000\n",
      "Epoch 16, CIFAR-10 Batch 2:  Loss:     0.1489 Accuracy: 0.702400\n",
      "Epoch 16, CIFAR-10 Batch 3:  Loss:     0.1214 Accuracy: 0.701000\n",
      "Epoch 16, CIFAR-10 Batch 4:  Loss:     0.1701 Accuracy: 0.673600\n",
      "Epoch 16, CIFAR-10 Batch 5:  Loss:     0.1365 Accuracy: 0.685200\n",
      "Epoch 17, CIFAR-10 Batch 1:  Loss:     0.1492 Accuracy: 0.692200\n",
      "Epoch 17, CIFAR-10 Batch 2:  Loss:     0.1202 Accuracy: 0.701600\n",
      "Epoch 17, CIFAR-10 Batch 3:  Loss:     0.1072 Accuracy: 0.704800\n",
      "Epoch 17, CIFAR-10 Batch 4:  Loss:     0.1168 Accuracy: 0.695200\n",
      "Epoch 17, CIFAR-10 Batch 5:  Loss:     0.1264 Accuracy: 0.694400\n",
      "Epoch 18, CIFAR-10 Batch 1:  Loss:     0.1335 Accuracy: 0.694000\n",
      "Epoch 18, CIFAR-10 Batch 2:  Loss:     0.0977 Accuracy: 0.692800\n",
      "Epoch 18, CIFAR-10 Batch 3:  Loss:     0.0806 Accuracy: 0.703800\n",
      "Epoch 18, CIFAR-10 Batch 4:  Loss:     0.0911 Accuracy: 0.706000\n",
      "Epoch 18, CIFAR-10 Batch 5:  Loss:     0.1104 Accuracy: 0.699000\n",
      "Epoch 19, CIFAR-10 Batch 1:  Loss:     0.1075 Accuracy: 0.697600\n",
      "Epoch 19, CIFAR-10 Batch 2:  Loss:     0.0970 Accuracy: 0.690800\n",
      "Epoch 19, CIFAR-10 Batch 3:  Loss:     0.0827 Accuracy: 0.699200\n",
      "Epoch 19, CIFAR-10 Batch 4:  Loss:     0.1021 Accuracy: 0.685800\n",
      "Epoch 19, CIFAR-10 Batch 5:  Loss:     0.1035 Accuracy: 0.689200\n",
      "Epoch 20, CIFAR-10 Batch 1:  Loss:     0.0831 Accuracy: 0.704400\n",
      "Epoch 20, CIFAR-10 Batch 2:  Loss:     0.0602 Accuracy: 0.692200\n",
      "Epoch 20, CIFAR-10 Batch 3:  Loss:     0.0532 Accuracy: 0.701000\n",
      "Epoch 20, CIFAR-10 Batch 4:  Loss:     0.0670 Accuracy: 0.693600\n",
      "Epoch 20, CIFAR-10 Batch 5:  Loss:     0.0871 Accuracy: 0.689200\n",
      "Epoch 21, CIFAR-10 Batch 1:  Loss:     0.0735 Accuracy: 0.703000\n",
      "Epoch 21, CIFAR-10 Batch 2:  Loss:     0.0610 Accuracy: 0.701400\n",
      "Epoch 21, CIFAR-10 Batch 3:  Loss:     0.0421 Accuracy: 0.704000\n",
      "Epoch 21, CIFAR-10 Batch 4:  Loss:     0.0659 Accuracy: 0.699800\n",
      "Epoch 21, CIFAR-10 Batch 5:  Loss:     0.0508 Accuracy: 0.709400\n",
      "Epoch 22, CIFAR-10 Batch 1:  Loss:     0.0611 Accuracy: 0.701400\n",
      "Epoch 22, CIFAR-10 Batch 2:  Loss:     0.0403 Accuracy: 0.705400\n",
      "Epoch 22, CIFAR-10 Batch 3:  Loss:     0.0372 Accuracy: 0.710800\n",
      "Epoch 22, CIFAR-10 Batch 4:  Loss:     0.0414 Accuracy: 0.707000\n",
      "Epoch 22, CIFAR-10 Batch 5:  Loss:     0.0423 Accuracy: 0.699800\n",
      "Epoch 23, CIFAR-10 Batch 1:  Loss:     0.0382 Accuracy: 0.709000\n",
      "Epoch 23, CIFAR-10 Batch 2:  Loss:     0.0401 Accuracy: 0.697600\n",
      "Epoch 23, CIFAR-10 Batch 3:  Loss:     0.0339 Accuracy: 0.704200\n",
      "Epoch 23, CIFAR-10 Batch 4:  Loss:     0.0535 Accuracy: 0.700200\n",
      "Epoch 23, CIFAR-10 Batch 5:  Loss:     0.0338 Accuracy: 0.701400\n",
      "Epoch 24, CIFAR-10 Batch 1:  Loss:     0.0365 Accuracy: 0.705000\n",
      "Epoch 24, CIFAR-10 Batch 2:  Loss:     0.0186 Accuracy: 0.708600\n",
      "Epoch 24, CIFAR-10 Batch 3:  Loss:     0.0266 Accuracy: 0.704600\n",
      "Epoch 24, CIFAR-10 Batch 4:  Loss:     0.0409 Accuracy: 0.706000\n",
      "Epoch 24, CIFAR-10 Batch 5:  Loss:     0.0241 Accuracy: 0.700800\n",
      "Epoch 25, CIFAR-10 Batch 1:  Loss:     0.0302 Accuracy: 0.703600\n",
      "Epoch 25, CIFAR-10 Batch 2:  Loss:     0.0194 Accuracy: 0.700600\n",
      "Epoch 25, CIFAR-10 Batch 3:  Loss:     0.0285 Accuracy: 0.710200\n",
      "Epoch 25, CIFAR-10 Batch 4:  Loss:     0.0319 Accuracy: 0.699600\n",
      "Epoch 25, CIFAR-10 Batch 5:  Loss:     0.0199 Accuracy: 0.702600\n",
      "Epoch 26, CIFAR-10 Batch 1:  Loss:     0.0300 Accuracy: 0.703600\n",
      "Epoch 26, CIFAR-10 Batch 2:  Loss:     0.0154 Accuracy: 0.702400\n",
      "Epoch 26, CIFAR-10 Batch 3:  Loss:     0.0246 Accuracy: 0.706800\n",
      "Epoch 26, CIFAR-10 Batch 4:  Loss:     0.0235 Accuracy: 0.701600\n",
      "Epoch 26, CIFAR-10 Batch 5:  Loss:     0.0136 Accuracy: 0.703000\n",
      "Epoch 27, CIFAR-10 Batch 1:  Loss:     0.0216 Accuracy: 0.705200\n",
      "Epoch 27, CIFAR-10 Batch 2:  Loss:     0.0122 Accuracy: 0.697600\n",
      "Epoch 27, CIFAR-10 Batch 3:  Loss:     0.0130 Accuracy: 0.706200\n",
      "Epoch 27, CIFAR-10 Batch 4:  Loss:     0.0182 Accuracy: 0.694800\n",
      "Epoch 27, CIFAR-10 Batch 5:  Loss:     0.0096 Accuracy: 0.696200\n",
      "Epoch 28, CIFAR-10 Batch 1:  Loss:     0.0221 Accuracy: 0.702800\n",
      "Epoch 28, CIFAR-10 Batch 2:  Loss:     0.0116 Accuracy: 0.702400\n",
      "Epoch 28, CIFAR-10 Batch 3:  Loss:     0.0128 Accuracy: 0.705400\n",
      "Epoch 28, CIFAR-10 Batch 4:  Loss:     0.0176 Accuracy: 0.697800\n",
      "Epoch 28, CIFAR-10 Batch 5:  Loss:     0.0145 Accuracy: 0.693400\n",
      "Epoch 29, CIFAR-10 Batch 1:  Loss:     0.0163 Accuracy: 0.704400\n",
      "Epoch 29, CIFAR-10 Batch 2:  Loss:     0.0118 Accuracy: 0.706200\n",
      "Epoch 29, CIFAR-10 Batch 3:  Loss:     0.0147 Accuracy: 0.701000\n",
      "Epoch 29, CIFAR-10 Batch 4:  Loss:     0.0171 Accuracy: 0.703200\n",
      "Epoch 29, CIFAR-10 Batch 5:  Loss:     0.0069 Accuracy: 0.711800\n",
      "Epoch 30, CIFAR-10 Batch 1:  Loss:     0.0154 Accuracy: 0.707400\n",
      "Epoch 30, CIFAR-10 Batch 2:  Loss:     0.0127 Accuracy: 0.697400\n",
      "Epoch 30, CIFAR-10 Batch 3:  Loss:     0.0092 Accuracy: 0.708000\n",
      "Epoch 30, CIFAR-10 Batch 4:  Loss:     0.0124 Accuracy: 0.703000\n",
      "Epoch 30, CIFAR-10 Batch 5:  Loss:     0.0067 Accuracy: 0.705600\n",
      "Epoch 31, CIFAR-10 Batch 1:  Loss:     0.0118 Accuracy: 0.705000\n",
      "Epoch 31, CIFAR-10 Batch 2:  Loss:     0.0080 Accuracy: 0.704800\n",
      "Epoch 31, CIFAR-10 Batch 3:  Loss:     0.0120 Accuracy: 0.704400\n",
      "Epoch 31, CIFAR-10 Batch 4:  Loss:     0.0111 Accuracy: 0.706400\n",
      "Epoch 31, CIFAR-10 Batch 5:  Loss:     0.0070 Accuracy: 0.702400\n",
      "Epoch 32, CIFAR-10 Batch 1:  Loss:     0.0109 Accuracy: 0.704600\n",
      "Epoch 32, CIFAR-10 Batch 2:  Loss:     0.0075 Accuracy: 0.709400\n",
      "Epoch 32, CIFAR-10 Batch 3:  Loss:     0.0093 Accuracy: 0.706400\n",
      "Epoch 32, CIFAR-10 Batch 4:  Loss:     0.0087 Accuracy: 0.707000\n",
      "Epoch 32, CIFAR-10 Batch 5:  Loss:     0.0050 Accuracy: 0.696800\n",
      "Epoch 33, CIFAR-10 Batch 1:  Loss:     0.0076 Accuracy: 0.706400\n",
      "Epoch 33, CIFAR-10 Batch 2:  Loss:     0.0044 Accuracy: 0.705800\n",
      "Epoch 33, CIFAR-10 Batch 3:  Loss:     0.0101 Accuracy: 0.707200\n",
      "Epoch 33, CIFAR-10 Batch 4:  Loss:     0.0061 Accuracy: 0.706200\n",
      "Epoch 33, CIFAR-10 Batch 5:  Loss:     0.0042 Accuracy: 0.706000\n",
      "Epoch 34, CIFAR-10 Batch 1:  Loss:     0.0066 Accuracy: 0.701600\n",
      "Epoch 34, CIFAR-10 Batch 2:  Loss:     0.0050 Accuracy: 0.708000\n",
      "Epoch 34, CIFAR-10 Batch 3:  Loss:     0.0064 Accuracy: 0.712400\n",
      "Epoch 34, CIFAR-10 Batch 4:  Loss:     0.0087 Accuracy: 0.708400\n",
      "Epoch 34, CIFAR-10 Batch 5:  Loss:     0.0051 Accuracy: 0.709200\n",
      "Epoch 35, CIFAR-10 Batch 1:  Loss:     0.0060 Accuracy: 0.707000\n",
      "Epoch 35, CIFAR-10 Batch 2:  Loss:     0.0055 Accuracy: 0.713000\n",
      "Epoch 35, CIFAR-10 Batch 3:  Loss:     0.0084 Accuracy: 0.701600\n",
      "Epoch 35, CIFAR-10 Batch 4:  Loss:     0.0043 Accuracy: 0.704600\n",
      "Epoch 35, CIFAR-10 Batch 5:  Loss:     0.0042 Accuracy: 0.711600\n",
      "Epoch 36, CIFAR-10 Batch 1:  Loss:     0.0073 Accuracy: 0.700600\n",
      "Epoch 36, CIFAR-10 Batch 2:  Loss:     0.0052 Accuracy: 0.706400\n",
      "Epoch 36, CIFAR-10 Batch 3:  Loss:     0.0049 Accuracy: 0.707000\n",
      "Epoch 36, CIFAR-10 Batch 4:  Loss:     0.0053 Accuracy: 0.697600\n",
      "Epoch 36, CIFAR-10 Batch 5:  Loss:     0.0042 Accuracy: 0.703000\n",
      "Epoch 37, CIFAR-10 Batch 1:  Loss:     0.0046 Accuracy: 0.702400\n",
      "Epoch 37, CIFAR-10 Batch 2:  Loss:     0.0030 Accuracy: 0.703600\n",
      "Epoch 37, CIFAR-10 Batch 3:  Loss:     0.0040 Accuracy: 0.704600\n",
      "Epoch 37, CIFAR-10 Batch 4:  Loss:     0.0048 Accuracy: 0.705600\n",
      "Epoch 37, CIFAR-10 Batch 5:  Loss:     0.0034 Accuracy: 0.704400\n",
      "Epoch 38, CIFAR-10 Batch 1:  Loss:     0.0035 Accuracy: 0.707800\n",
      "Epoch 38, CIFAR-10 Batch 2:  Loss:     0.0038 Accuracy: 0.707200\n",
      "Epoch 38, CIFAR-10 Batch 3:  Loss:     0.0062 Accuracy: 0.699000\n",
      "Epoch 38, CIFAR-10 Batch 4:  Loss:     0.0032 Accuracy: 0.707400\n",
      "Epoch 38, CIFAR-10 Batch 5:  Loss:     0.0027 Accuracy: 0.704200\n",
      "Epoch 39, CIFAR-10 Batch 1:  Loss:     0.0050 Accuracy: 0.699600\n",
      "Epoch 39, CIFAR-10 Batch 2:  Loss:     0.0053 Accuracy: 0.707600\n",
      "Epoch 39, CIFAR-10 Batch 3:  Loss:     0.0047 Accuracy: 0.691800\n",
      "Epoch 39, CIFAR-10 Batch 4:  Loss:     0.0028 Accuracy: 0.702800\n",
      "Epoch 39, CIFAR-10 Batch 5:  Loss:     0.0021 Accuracy: 0.713000\n",
      "Epoch 40, CIFAR-10 Batch 1:  Loss:     0.0044 Accuracy: 0.711000\n",
      "Epoch 40, CIFAR-10 Batch 2:  Loss:     0.0023 Accuracy: 0.712600\n",
      "Epoch 40, CIFAR-10 Batch 3:  Loss:     0.0027 Accuracy: 0.709000\n",
      "Epoch 40, CIFAR-10 Batch 4:  Loss:     0.0021 Accuracy: 0.700200\n",
      "Epoch 40, CIFAR-10 Batch 5:  Loss:     0.0030 Accuracy: 0.705000\n",
      "Epoch 41, CIFAR-10 Batch 1:  Loss:     0.0033 Accuracy: 0.710000\n",
      "Epoch 41, CIFAR-10 Batch 2:  Loss:     0.0033 Accuracy: 0.709600\n",
      "Epoch 41, CIFAR-10 Batch 3:  Loss:     0.0018 Accuracy: 0.711800\n",
      "Epoch 41, CIFAR-10 Batch 4:  Loss:     0.0038 Accuracy: 0.693200\n",
      "Epoch 41, CIFAR-10 Batch 5:  Loss:     0.0016 Accuracy: 0.705400\n",
      "Epoch 42, CIFAR-10 Batch 1:  Loss:     0.0031 Accuracy: 0.701600\n",
      "Epoch 42, CIFAR-10 Batch 2:  Loss:     0.0017 Accuracy: 0.709600\n",
      "Epoch 42, CIFAR-10 Batch 3:  Loss:     0.0024 Accuracy: 0.709200\n",
      "Epoch 42, CIFAR-10 Batch 4:  Loss:     0.0029 Accuracy: 0.694600\n",
      "Epoch 42, CIFAR-10 Batch 5:  Loss:     0.0013 Accuracy: 0.709200\n",
      "Epoch 43, CIFAR-10 Batch 1:  Loss:     0.0034 Accuracy: 0.703600\n",
      "Epoch 43, CIFAR-10 Batch 2:  Loss:     0.0027 Accuracy: 0.705400\n",
      "Epoch 43, CIFAR-10 Batch 3:  Loss:     0.0014 Accuracy: 0.709000\n",
      "Epoch 43, CIFAR-10 Batch 4:  Loss:     0.0024 Accuracy: 0.696200\n",
      "Epoch 43, CIFAR-10 Batch 5:  Loss:     0.0013 Accuracy: 0.702400\n",
      "Epoch 44, CIFAR-10 Batch 1:  Loss:     0.0039 Accuracy: 0.694800\n",
      "Epoch 44, CIFAR-10 Batch 2:  Loss:     0.0035 Accuracy: 0.697200\n",
      "Epoch 44, CIFAR-10 Batch 3:  Loss:     0.0032 Accuracy: 0.709800\n",
      "Epoch 44, CIFAR-10 Batch 4:  Loss:     0.0024 Accuracy: 0.703000\n",
      "Epoch 44, CIFAR-10 Batch 5:  Loss:     0.0011 Accuracy: 0.709600\n",
      "Epoch 45, CIFAR-10 Batch 1:  Loss:     0.0020 Accuracy: 0.705000\n",
      "Epoch 45, CIFAR-10 Batch 2:  Loss:     0.0012 Accuracy: 0.704800\n",
      "Epoch 45, CIFAR-10 Batch 3:  Loss:     0.0016 Accuracy: 0.711600\n",
      "Epoch 45, CIFAR-10 Batch 4:  Loss:     0.0014 Accuracy: 0.701000\n",
      "Epoch 45, CIFAR-10 Batch 5:  Loss:     0.0014 Accuracy: 0.712200\n",
      "Epoch 46, CIFAR-10 Batch 1:  Loss:     0.0022 Accuracy: 0.703200\n",
      "Epoch 46, CIFAR-10 Batch 2:  Loss:     0.0021 Accuracy: 0.704200\n",
      "Epoch 46, CIFAR-10 Batch 3:  Loss:     0.0033 Accuracy: 0.710000\n",
      "Epoch 46, CIFAR-10 Batch 4:  Loss:     0.0013 Accuracy: 0.703400\n",
      "Epoch 46, CIFAR-10 Batch 5:  Loss:     0.0010 Accuracy: 0.706600\n",
      "Epoch 47, CIFAR-10 Batch 1:  Loss:     0.0010 Accuracy: 0.704800\n",
      "Epoch 47, CIFAR-10 Batch 2:  Loss:     0.0012 Accuracy: 0.703400\n",
      "Epoch 47, CIFAR-10 Batch 3:  Loss:     0.0014 Accuracy: 0.707400\n",
      "Epoch 47, CIFAR-10 Batch 4:  Loss:     0.0010 Accuracy: 0.710200\n",
      "Epoch 47, CIFAR-10 Batch 5:  Loss:     0.0012 Accuracy: 0.708000\n",
      "Epoch 48, CIFAR-10 Batch 1:  Loss:     0.0009 Accuracy: 0.710600\n",
      "Epoch 48, CIFAR-10 Batch 2:  Loss:     0.0024 Accuracy: 0.707000\n",
      "Epoch 48, CIFAR-10 Batch 3:  Loss:     0.0016 Accuracy: 0.707600\n",
      "Epoch 48, CIFAR-10 Batch 4:  Loss:     0.0008 Accuracy: 0.703000\n",
      "Epoch 48, CIFAR-10 Batch 5:  Loss:     0.0015 Accuracy: 0.710800\n",
      "Epoch 49, CIFAR-10 Batch 1:  Loss:     0.0008 Accuracy: 0.717000\n",
      "Epoch 49, CIFAR-10 Batch 2:  Loss:     0.0020 Accuracy: 0.705400\n",
      "Epoch 49, CIFAR-10 Batch 3:  Loss:     0.0016 Accuracy: 0.717800\n",
      "Epoch 49, CIFAR-10 Batch 4:  Loss:     0.0009 Accuracy: 0.706800\n",
      "Epoch 49, CIFAR-10 Batch 5:  Loss:     0.0006 Accuracy: 0.710200\n",
      "Epoch 50, CIFAR-10 Batch 1:  Loss:     0.0009 Accuracy: 0.707600\n",
      "Epoch 50, CIFAR-10 Batch 2:  Loss:     0.0006 Accuracy: 0.709600\n",
      "Epoch 50, CIFAR-10 Batch 3:  Loss:     0.0019 Accuracy: 0.714800\n",
      "Epoch 50, CIFAR-10 Batch 4:  Loss:     0.0008 Accuracy: 0.708000\n",
      "Epoch 50, CIFAR-10 Batch 5:  Loss:     0.0012 Accuracy: 0.711000\n"
     ]
    }
   ],
   "source": [
    "\"\"\"\n",
    "DON'T MODIFY ANYTHING IN THIS CELL\n",
    "\"\"\"\n",
    "save_model_path = './image_classification'\n",
    "\n",
    "print('Training...')\n",
    "with tf.Session() as sess:\n",
    "    # Initializing the variables\n",
    "    sess.run(tf.global_variables_initializer())\n",
    "    \n",
    "    # Training cycle\n",
    "    for epoch in range(epochs):\n",
    "        # Loop over all batches\n",
    "        n_batches = 5\n",
    "        for batch_i in range(1, n_batches + 1):\n",
    "            for batch_features, batch_labels in helper.load_preprocess_training_batch(batch_i, batch_size):\n",
    "                train_neural_network(sess, optimizer, keep_probability, batch_features, batch_labels)\n",
    "            print('Epoch {:>2}, CIFAR-10 Batch {}:  '.format(epoch + 1, batch_i), end='')\n",
    "            print_stats(sess, batch_features, batch_labels, cost, accuracy)\n",
    "            \n",
    "    # Save Model\n",
    "    saver = tf.train.Saver()\n",
    "    save_path = saver.save(sess, save_model_path)"
   ]
  },
  {
   "cell_type": "markdown",
   "metadata": {
    "deletable": true,
    "editable": true
   },
   "source": [
    "# Checkpoint\n",
    "The model has been saved to disk.\n",
    "## Test Model\n",
    "Test your model against the test dataset.  This will be your final accuracy. You should have an accuracy greater than 50%. If you don't, keep tweaking the model architecture and parameters."
   ]
  },
  {
   "cell_type": "code",
   "execution_count": 146,
   "metadata": {
    "collapsed": false,
    "deletable": true,
    "editable": true
   },
   "outputs": [
    {
     "name": "stdout",
     "output_type": "stream",
     "text": [
      "Testing Accuracy: 0.6981847435235977\n",
      "\n"
     ]
    },
    {
     "data": {
      "image/png": "[encoded data removed]",
      "text/plain": [
       "<matplotlib.figure.Figure at 0x7f5a4ff0cef0>"
      ]
     },
     "metadata": {
      "image/png": {
       "height": 319,
       "width": 349
      }
     },
     "output_type": "display_data"
    }
   ],
   "source": [
    "\"\"\"\n",
    "DON'T MODIFY ANYTHING IN THIS CELL\n",
    "\"\"\"\n",
    "%matplotlib inline\n",
    "%config InlineBackend.figure_format = 'retina'\n",
    "\n",
    "import tensorflow as tf\n",
    "import pickle\n",
    "import helper\n",
    "import random\n",
    "\n",
    "# Set batch size if not already set\n",
    "try:\n",
    "    if batch_size:\n",
    "        pass\n",
    "except NameError:\n",
    "    batch_size = 64\n",
    "\n",
    "save_model_path = './image_classification'\n",
    "n_samples = 4\n",
    "top_n_predictions = 3\n",
    "\n",
    "def test_model():\n",
    "    \"\"\"\n",
    "    Test the saved model against the test dataset\n",
    "    \"\"\"\n",
    "\n",
    "    test_features, test_labels = pickle.load(open('preprocess_training.p', mode='rb'))\n",
    "    loaded_graph = tf.Graph()\n",
    "\n",
    "    with tf.Session(graph=loaded_graph) as sess:\n",
    "        # Load model\n",
    "        loader = tf.train.import_meta_graph(save_model_path + '.meta')\n",
    "        loader.restore(sess, save_model_path)\n",
    "\n",
    "        # Get Tensors from loaded model\n",
    "        loaded_x = loaded_graph.get_tensor_by_name('x:0')\n",
    "        loaded_y = loaded_graph.get_tensor_by_name('y:0')\n",
    "        loaded_keep_prob = loaded_graph.get_tensor_by_name('keep_prob:0')\n",
    "        loaded_logits = loaded_graph.get_tensor_by_name('logits:0')\n",
    "        loaded_acc = loaded_graph.get_tensor_by_name('accuracy:0')\n",
    "        \n",
    "        # Get accuracy in batches for memory limitations\n",
    "        test_batch_acc_total = 0\n",
    "        test_batch_count = 0\n",
    "        \n",
    "        for train_feature_batch, train_label_batch in helper.batch_features_labels(test_features, test_labels, batch_size):\n",
    "            test_batch_acc_total += sess.run(\n",
    "                loaded_acc,\n",
    "                feed_dict={loaded_x: train_feature_batch, loaded_y: train_label_batch, loaded_keep_prob: 1.0})\n",
    "            test_batch_count += 1\n",
    "\n",
    "        print('Testing Accuracy: {}\\n'.format(test_batch_acc_total/test_batch_count))\n",
    "\n",
    "        # Print Random Samples\n",
    "        random_test_features, random_test_labels = tuple(zip(*random.sample(list(zip(test_features, test_labels)), n_samples)))\n",
    "        random_test_predictions = sess.run(\n",
    "            tf.nn.top_k(tf.nn.softmax(loaded_logits), top_n_predictions),\n",
    "            feed_dict={loaded_x: random_test_features, loaded_y: random_test_labels, loaded_keep_prob: 1.0})\n",
    "        helper.display_image_predictions(random_test_features, random_test_labels, random_test_predictions)\n",
    "\n",
    "\n",
    "test_model()"
   ]
  },
  {
   "cell_type": "markdown",
   "metadata": {
    "deletable": true,
    "editable": true
   },
   "source": [
    "## Why 50-70% Accuracy?\n",
    "You might be wondering why you can't get an accuracy any higher. First things first, 50% isn't bad for a simple CNN.  Pure guessing would get you 10% accuracy. However, you might notice people are getting scores [well above 70%](http://rodrigob.github.io/are_we_there_yet/build/classification_datasets_results.html#43494641522d3130).  That's because we haven't taught you all there is to know about neural networks. We still need to cover a few more techniques.\n",
    "## Submitting This Project\n",
    "When submitting this project, make sure to run all the cells before saving the notebook.  Save the notebook file as \"dlnd_image_classification.ipynb\" and save it as a HTML file under \"File\" -> \"Download as\".  Include the \"helper.py\" and \"problem_unittests.py\" files in your submission."
   ]
  }
 ],
 "metadata": {
  "kernelspec": {
   "display_name": "Python 3",
   "language": "python",
   "name": "python3"
  },
  "language_info": {
   "codemirror_mode": {
    "name": "ipython",
    "version": 3
   },
   "file_extension": ".py",
   "mimetype": "text/x-python",
   "name": "python",
   "nbconvert_exporter": "python",
   "pygments_lexer": "ipython3",
   "version": "3.5.2"
  },
  "widgets": {
   "state": {},
   "version": "1.1.2"
  }
 },
 "nbformat": 4,
 "nbformat_minor": 0
}
